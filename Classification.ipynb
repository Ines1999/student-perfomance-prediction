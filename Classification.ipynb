{
  "cells": [
    {
      "cell_type": "code",
      "execution_count": 1,
      "id": "0bddb97f",
      "metadata": {
        "id": "0bddb97f"
      },
      "outputs": [],
      "source": [
        "## ************ Importing Libraries ******************\n",
        "import pandas as pd\n",
        "import numpy as np \n",
        "import matplotlib.pyplot as plt \n",
        "import math\n",
        "from sklearn.model_selection import train_test_split \n",
        "from sklearn.model_selection import cross_validate \n",
        "from sklearn.model_selection import GridSearchCV #for hyperparameter tuning\n",
        "from sklearn import metrics ## different metrics that we are going to take into consideration while evaluating our model \n",
        "import joblib  ## for saving our models as .pkl files to use them in our web application \n",
        "from sklearn.metrics import plot_confusion_matrix ## to evaluate the quality of our models\n",
        "from sklearn.linear_model import LogisticRegression\n",
        "from sklearn.model_selection import cross_val_score\n",
        "from sklearn.ensemble import RandomForestClassifier\n",
        "from sklearn.neighbors import KNeighborsClassifier\n",
        "from sklearn.ensemble import GradientBoostingClassifier\n",
        "from sklearn.tree import DecisionTreeClassifier\n",
        "from sklearn.naive_bayes import GaussianNB\n",
        "from sklearn.svm import SVC\n",
        "from sklearn.metrics import plot_confusion_matrix"
      ]
    },
    {
      "cell_type": "code",
      "execution_count": 2,
      "id": "a220295c",
      "metadata": {
        "id": "a220295c"
      },
      "outputs": [],
      "source": [
        "#lecture du dataset en dataframe\n",
        "df = pd.read_csv('dataset_classification.csv')\n",
        "df=df.drop(df.columns[0], axis=1)\n",
        "df= df[['absences', 'G1', 'failures', 'pass', 'Walc', 'schoolsup','reason', 'Fjob','studytime','traveltime', 'Mjob', 'paid', 'Medu','guardian', 'goout', 'Fedu']]"
      ]
    },
    {
      "cell_type": "code",
      "execution_count": 3,
      "id": "9bc07988",
      "metadata": {
        "id": "9bc07988"
      },
      "outputs": [],
      "source": [
        "X= df.drop([\"pass\"], axis=1) # our features\n",
        "y= df[\"pass\"] # our target "
      ]
    },
    {
      "cell_type": "code",
      "execution_count": null,
      "id": "e4627f50",
      "metadata": {
        "colab": {
          "base_uri": "https://localhost:8080/",
          "height": 424
        },
        "id": "e4627f50",
        "outputId": "94559dc5-e7a1-4e6d-b7b4-d6d51cce9c38"
      },
      "outputs": [
        {
          "output_type": "execute_result",
          "data": {
            "text/plain": [
              "     absences  G1  failures  Walc  schoolsup  reason  Fjob  studytime  \\\n",
              "0           6   5         0     1          1       0     2          2   \n",
              "1           4   5         0     1          0       0     4          2   \n",
              "2          10   7         3     3          1       3     4          2   \n",
              "3           2  15         0     1          0       1     1          3   \n",
              "4           4   6         0     2          0       1     4          2   \n",
              "..        ...  ..       ...   ...        ...     ...   ...        ...   \n",
              "390        11   9         2     5          0       0     1          2   \n",
              "391         3  14         0     4          0       0     1          1   \n",
              "392         3  10         3     3          0       0     4          1   \n",
              "393         0  11         0     4          0       0     4          1   \n",
              "394         5   8         0     3          0       0     0          1   \n",
              "\n",
              "     traveltime  Mjob  paid  Medu  guardian  goout  Fedu  \n",
              "0             2     0     0     4         0      4     4  \n",
              "1             1     0     0     1         1      3     1  \n",
              "2             1     0     1     1         0      2     1  \n",
              "3             1     3     1     4         0      2     2  \n",
              "4             1     4     1     3         1      2     3  \n",
              "..          ...   ...   ...   ...       ...    ...   ...  \n",
              "390           1     1     1     2         2      4     2  \n",
              "391           2     1     0     3         0      5     1  \n",
              "392           1     4     0     1         2      3     1  \n",
              "393           3     1     0     3         0      1     2  \n",
              "394           1     4     0     1         1      3     1  \n",
              "\n",
              "[395 rows x 15 columns]"
            ],
            "text/html": [
              "\n",
              "  <div id=\"df-882371f6-fbda-4907-803e-80587202bed3\">\n",
              "    <div class=\"colab-df-container\">\n",
              "      <div>\n",
              "<style scoped>\n",
              "    .dataframe tbody tr th:only-of-type {\n",
              "        vertical-align: middle;\n",
              "    }\n",
              "\n",
              "    .dataframe tbody tr th {\n",
              "        vertical-align: top;\n",
              "    }\n",
              "\n",
              "    .dataframe thead th {\n",
              "        text-align: right;\n",
              "    }\n",
              "</style>\n",
              "<table border=\"1\" class=\"dataframe\">\n",
              "  <thead>\n",
              "    <tr style=\"text-align: right;\">\n",
              "      <th></th>\n",
              "      <th>absences</th>\n",
              "      <th>G1</th>\n",
              "      <th>failures</th>\n",
              "      <th>Walc</th>\n",
              "      <th>schoolsup</th>\n",
              "      <th>reason</th>\n",
              "      <th>Fjob</th>\n",
              "      <th>studytime</th>\n",
              "      <th>traveltime</th>\n",
              "      <th>Mjob</th>\n",
              "      <th>paid</th>\n",
              "      <th>Medu</th>\n",
              "      <th>guardian</th>\n",
              "      <th>goout</th>\n",
              "      <th>Fedu</th>\n",
              "    </tr>\n",
              "  </thead>\n",
              "  <tbody>\n",
              "    <tr>\n",
              "      <th>0</th>\n",
              "      <td>6</td>\n",
              "      <td>5</td>\n",
              "      <td>0</td>\n",
              "      <td>1</td>\n",
              "      <td>1</td>\n",
              "      <td>0</td>\n",
              "      <td>2</td>\n",
              "      <td>2</td>\n",
              "      <td>2</td>\n",
              "      <td>0</td>\n",
              "      <td>0</td>\n",
              "      <td>4</td>\n",
              "      <td>0</td>\n",
              "      <td>4</td>\n",
              "      <td>4</td>\n",
              "    </tr>\n",
              "    <tr>\n",
              "      <th>1</th>\n",
              "      <td>4</td>\n",
              "      <td>5</td>\n",
              "      <td>0</td>\n",
              "      <td>1</td>\n",
              "      <td>0</td>\n",
              "      <td>0</td>\n",
              "      <td>4</td>\n",
              "      <td>2</td>\n",
              "      <td>1</td>\n",
              "      <td>0</td>\n",
              "      <td>0</td>\n",
              "      <td>1</td>\n",
              "      <td>1</td>\n",
              "      <td>3</td>\n",
              "      <td>1</td>\n",
              "    </tr>\n",
              "    <tr>\n",
              "      <th>2</th>\n",
              "      <td>10</td>\n",
              "      <td>7</td>\n",
              "      <td>3</td>\n",
              "      <td>3</td>\n",
              "      <td>1</td>\n",
              "      <td>3</td>\n",
              "      <td>4</td>\n",
              "      <td>2</td>\n",
              "      <td>1</td>\n",
              "      <td>0</td>\n",
              "      <td>1</td>\n",
              "      <td>1</td>\n",
              "      <td>0</td>\n",
              "      <td>2</td>\n",
              "      <td>1</td>\n",
              "    </tr>\n",
              "    <tr>\n",
              "      <th>3</th>\n",
              "      <td>2</td>\n",
              "      <td>15</td>\n",
              "      <td>0</td>\n",
              "      <td>1</td>\n",
              "      <td>0</td>\n",
              "      <td>1</td>\n",
              "      <td>1</td>\n",
              "      <td>3</td>\n",
              "      <td>1</td>\n",
              "      <td>3</td>\n",
              "      <td>1</td>\n",
              "      <td>4</td>\n",
              "      <td>0</td>\n",
              "      <td>2</td>\n",
              "      <td>2</td>\n",
              "    </tr>\n",
              "    <tr>\n",
              "      <th>4</th>\n",
              "      <td>4</td>\n",
              "      <td>6</td>\n",
              "      <td>0</td>\n",
              "      <td>2</td>\n",
              "      <td>0</td>\n",
              "      <td>1</td>\n",
              "      <td>4</td>\n",
              "      <td>2</td>\n",
              "      <td>1</td>\n",
              "      <td>4</td>\n",
              "      <td>1</td>\n",
              "      <td>3</td>\n",
              "      <td>1</td>\n",
              "      <td>2</td>\n",
              "      <td>3</td>\n",
              "    </tr>\n",
              "    <tr>\n",
              "      <th>...</th>\n",
              "      <td>...</td>\n",
              "      <td>...</td>\n",
              "      <td>...</td>\n",
              "      <td>...</td>\n",
              "      <td>...</td>\n",
              "      <td>...</td>\n",
              "      <td>...</td>\n",
              "      <td>...</td>\n",
              "      <td>...</td>\n",
              "      <td>...</td>\n",
              "      <td>...</td>\n",
              "      <td>...</td>\n",
              "      <td>...</td>\n",
              "      <td>...</td>\n",
              "      <td>...</td>\n",
              "    </tr>\n",
              "    <tr>\n",
              "      <th>390</th>\n",
              "      <td>11</td>\n",
              "      <td>9</td>\n",
              "      <td>2</td>\n",
              "      <td>5</td>\n",
              "      <td>0</td>\n",
              "      <td>0</td>\n",
              "      <td>1</td>\n",
              "      <td>2</td>\n",
              "      <td>1</td>\n",
              "      <td>1</td>\n",
              "      <td>1</td>\n",
              "      <td>2</td>\n",
              "      <td>2</td>\n",
              "      <td>4</td>\n",
              "      <td>2</td>\n",
              "    </tr>\n",
              "    <tr>\n",
              "      <th>391</th>\n",
              "      <td>3</td>\n",
              "      <td>14</td>\n",
              "      <td>0</td>\n",
              "      <td>4</td>\n",
              "      <td>0</td>\n",
              "      <td>0</td>\n",
              "      <td>1</td>\n",
              "      <td>1</td>\n",
              "      <td>2</td>\n",
              "      <td>1</td>\n",
              "      <td>0</td>\n",
              "      <td>3</td>\n",
              "      <td>0</td>\n",
              "      <td>5</td>\n",
              "      <td>1</td>\n",
              "    </tr>\n",
              "    <tr>\n",
              "      <th>392</th>\n",
              "      <td>3</td>\n",
              "      <td>10</td>\n",
              "      <td>3</td>\n",
              "      <td>3</td>\n",
              "      <td>0</td>\n",
              "      <td>0</td>\n",
              "      <td>4</td>\n",
              "      <td>1</td>\n",
              "      <td>1</td>\n",
              "      <td>4</td>\n",
              "      <td>0</td>\n",
              "      <td>1</td>\n",
              "      <td>2</td>\n",
              "      <td>3</td>\n",
              "      <td>1</td>\n",
              "    </tr>\n",
              "    <tr>\n",
              "      <th>393</th>\n",
              "      <td>0</td>\n",
              "      <td>11</td>\n",
              "      <td>0</td>\n",
              "      <td>4</td>\n",
              "      <td>0</td>\n",
              "      <td>0</td>\n",
              "      <td>4</td>\n",
              "      <td>1</td>\n",
              "      <td>3</td>\n",
              "      <td>1</td>\n",
              "      <td>0</td>\n",
              "      <td>3</td>\n",
              "      <td>0</td>\n",
              "      <td>1</td>\n",
              "      <td>2</td>\n",
              "    </tr>\n",
              "    <tr>\n",
              "      <th>394</th>\n",
              "      <td>5</td>\n",
              "      <td>8</td>\n",
              "      <td>0</td>\n",
              "      <td>3</td>\n",
              "      <td>0</td>\n",
              "      <td>0</td>\n",
              "      <td>0</td>\n",
              "      <td>1</td>\n",
              "      <td>1</td>\n",
              "      <td>4</td>\n",
              "      <td>0</td>\n",
              "      <td>1</td>\n",
              "      <td>1</td>\n",
              "      <td>3</td>\n",
              "      <td>1</td>\n",
              "    </tr>\n",
              "  </tbody>\n",
              "</table>\n",
              "<p>395 rows × 15 columns</p>\n",
              "</div>\n",
              "      <button class=\"colab-df-convert\" onclick=\"convertToInteractive('df-882371f6-fbda-4907-803e-80587202bed3')\"\n",
              "              title=\"Convert this dataframe to an interactive table.\"\n",
              "              style=\"display:none;\">\n",
              "        \n",
              "  <svg xmlns=\"http://www.w3.org/2000/svg\" height=\"24px\"viewBox=\"0 0 24 24\"\n",
              "       width=\"24px\">\n",
              "    <path d=\"M0 0h24v24H0V0z\" fill=\"none\"/>\n",
              "    <path d=\"M18.56 5.44l.94 2.06.94-2.06 2.06-.94-2.06-.94-.94-2.06-.94 2.06-2.06.94zm-11 1L8.5 8.5l.94-2.06 2.06-.94-2.06-.94L8.5 2.5l-.94 2.06-2.06.94zm10 10l.94 2.06.94-2.06 2.06-.94-2.06-.94-.94-2.06-.94 2.06-2.06.94z\"/><path d=\"M17.41 7.96l-1.37-1.37c-.4-.4-.92-.59-1.43-.59-.52 0-1.04.2-1.43.59L10.3 9.45l-7.72 7.72c-.78.78-.78 2.05 0 2.83L4 21.41c.39.39.9.59 1.41.59.51 0 1.02-.2 1.41-.59l7.78-7.78 2.81-2.81c.8-.78.8-2.07 0-2.86zM5.41 20L4 18.59l7.72-7.72 1.47 1.35L5.41 20z\"/>\n",
              "  </svg>\n",
              "      </button>\n",
              "      \n",
              "  <style>\n",
              "    .colab-df-container {\n",
              "      display:flex;\n",
              "      flex-wrap:wrap;\n",
              "      gap: 12px;\n",
              "    }\n",
              "\n",
              "    .colab-df-convert {\n",
              "      background-color: #E8F0FE;\n",
              "      border: none;\n",
              "      border-radius: 50%;\n",
              "      cursor: pointer;\n",
              "      display: none;\n",
              "      fill: #1967D2;\n",
              "      height: 32px;\n",
              "      padding: 0 0 0 0;\n",
              "      width: 32px;\n",
              "    }\n",
              "\n",
              "    .colab-df-convert:hover {\n",
              "      background-color: #E2EBFA;\n",
              "      box-shadow: 0px 1px 2px rgba(60, 64, 67, 0.3), 0px 1px 3px 1px rgba(60, 64, 67, 0.15);\n",
              "      fill: #174EA6;\n",
              "    }\n",
              "\n",
              "    [theme=dark] .colab-df-convert {\n",
              "      background-color: #3B4455;\n",
              "      fill: #D2E3FC;\n",
              "    }\n",
              "\n",
              "    [theme=dark] .colab-df-convert:hover {\n",
              "      background-color: #434B5C;\n",
              "      box-shadow: 0px 1px 3px 1px rgba(0, 0, 0, 0.15);\n",
              "      filter: drop-shadow(0px 1px 2px rgba(0, 0, 0, 0.3));\n",
              "      fill: #FFFFFF;\n",
              "    }\n",
              "  </style>\n",
              "\n",
              "      <script>\n",
              "        const buttonEl =\n",
              "          document.querySelector('#df-882371f6-fbda-4907-803e-80587202bed3 button.colab-df-convert');\n",
              "        buttonEl.style.display =\n",
              "          google.colab.kernel.accessAllowed ? 'block' : 'none';\n",
              "\n",
              "        async function convertToInteractive(key) {\n",
              "          const element = document.querySelector('#df-882371f6-fbda-4907-803e-80587202bed3');\n",
              "          const dataTable =\n",
              "            await google.colab.kernel.invokeFunction('convertToInteractive',\n",
              "                                                     [key], {});\n",
              "          if (!dataTable) return;\n",
              "\n",
              "          const docLinkHtml = 'Like what you see? Visit the ' +\n",
              "            '<a target=\"_blank\" href=https://colab.research.google.com/notebooks/data_table.ipynb>data table notebook</a>'\n",
              "            + ' to learn more about interactive tables.';\n",
              "          element.innerHTML = '';\n",
              "          dataTable['output_type'] = 'display_data';\n",
              "          await google.colab.output.renderOutput(dataTable, element);\n",
              "          const docLink = document.createElement('div');\n",
              "          docLink.innerHTML = docLinkHtml;\n",
              "          element.appendChild(docLink);\n",
              "        }\n",
              "      </script>\n",
              "    </div>\n",
              "  </div>\n",
              "  "
            ]
          },
          "metadata": {},
          "execution_count": 5
        }
      ],
      "source": [
        "X"
      ]
    },
    {
      "cell_type": "code",
      "execution_count": null,
      "id": "c16e2317",
      "metadata": {
        "colab": {
          "base_uri": "https://localhost:8080/"
        },
        "id": "c16e2317",
        "outputId": "a3962c55-d504-4425-e330-63dceb4ac53b"
      },
      "outputs": [
        {
          "output_type": "execute_result",
          "data": {
            "text/plain": [
              "0      0\n",
              "1      0\n",
              "2      1\n",
              "3      1\n",
              "4      1\n",
              "      ..\n",
              "390    0\n",
              "391    1\n",
              "392    0\n",
              "393    1\n",
              "394    0\n",
              "Name: pass, Length: 395, dtype: int64"
            ]
          },
          "metadata": {},
          "execution_count": 6
        }
      ],
      "source": [
        "y"
      ]
    },
    {
      "cell_type": "code",
      "execution_count": 4,
      "id": "446c24d8",
      "metadata": {
        "colab": {
          "base_uri": "https://localhost:8080/",
          "height": 586
        },
        "id": "446c24d8",
        "outputId": "ab93afde-d801-40dd-89bc-a1999983d50e"
      },
      "outputs": [
        {
          "output_type": "stream",
          "name": "stderr",
          "text": [
            "<ipython-input-4-2b763d692e82>:3: FutureWarning: this method is deprecated in favour of `Styler.format(precision=..)`\n",
            "  corr.style.background_gradient(cmap='coolwarm').set_precision(2)\n"
          ]
        },
        {
          "output_type": "execute_result",
          "data": {
            "text/plain": [
              "<pandas.io.formats.style.Styler at 0x7f4a6c1eb040>"
            ],
            "text/html": [
              "<style type=\"text/css\">\n",
              "#T_f03d8_row0_col0, #T_f03d8_row1_col1, #T_f03d8_row2_col2, #T_f03d8_row3_col3, #T_f03d8_row4_col4, #T_f03d8_row5_col5, #T_f03d8_row6_col6, #T_f03d8_row7_col7, #T_f03d8_row8_col8, #T_f03d8_row9_col9, #T_f03d8_row10_col10, #T_f03d8_row11_col11, #T_f03d8_row12_col12, #T_f03d8_row13_col13, #T_f03d8_row14_col14, #T_f03d8_row15_col15 {\n",
              "  background-color: #b40426;\n",
              "  color: #f1f1f1;\n",
              "}\n",
              "#T_f03d8_row0_col1 {\n",
              "  background-color: #89acfd;\n",
              "  color: #000000;\n",
              "}\n",
              "#T_f03d8_row0_col2, #T_f03d8_row0_col4, #T_f03d8_row9_col4 {\n",
              "  background-color: #a2c1ff;\n",
              "  color: #000000;\n",
              "}\n",
              "#T_f03d8_row0_col3, #T_f03d8_row6_col5, #T_f03d8_row7_col11, #T_f03d8_row13_col4 {\n",
              "  background-color: #7597f6;\n",
              "  color: #f1f1f1;\n",
              "}\n",
              "#T_f03d8_row0_col5, #T_f03d8_row0_col14, #T_f03d8_row7_col14, #T_f03d8_row8_col15, #T_f03d8_row9_col1, #T_f03d8_row15_col4, #T_f03d8_row15_col8 {\n",
              "  background-color: #799cf8;\n",
              "  color: #f1f1f1;\n",
              "}\n",
              "#T_f03d8_row0_col6, #T_f03d8_row0_col11, #T_f03d8_row7_col5, #T_f03d8_row7_col12, #T_f03d8_row9_col5, #T_f03d8_row10_col5, #T_f03d8_row12_col4, #T_f03d8_row14_col7, #T_f03d8_row14_col11 {\n",
              "  background-color: #6f92f3;\n",
              "  color: #f1f1f1;\n",
              "}\n",
              "#T_f03d8_row0_col7, #T_f03d8_row5_col9, #T_f03d8_row12_col10 {\n",
              "  background-color: #6687ed;\n",
              "  color: #f1f1f1;\n",
              "}\n",
              "#T_f03d8_row0_col8, #T_f03d8_row0_col13, #T_f03d8_row4_col7, #T_f03d8_row4_col12, #T_f03d8_row12_col6 {\n",
              "  background-color: #6b8df0;\n",
              "  color: #f1f1f1;\n",
              "}\n",
              "#T_f03d8_row0_col9, #T_f03d8_row5_col4, #T_f03d8_row8_col2 {\n",
              "  background-color: #6485ec;\n",
              "  color: #f1f1f1;\n",
              "}\n",
              "#T_f03d8_row0_col10, #T_f03d8_row3_col9, #T_f03d8_row6_col7, #T_f03d8_row8_col7, #T_f03d8_row15_col0 {\n",
              "  background-color: #5b7ae5;\n",
              "  color: #f1f1f1;\n",
              "}\n",
              "#T_f03d8_row0_col12, #T_f03d8_row6_col12, #T_f03d8_row11_col15 {\n",
              "  background-color: #94b6ff;\n",
              "  color: #000000;\n",
              "}\n",
              "#T_f03d8_row0_col15, #T_f03d8_row6_col2, #T_f03d8_row6_col15, #T_f03d8_row9_col3, #T_f03d8_row10_col2 {\n",
              "  background-color: #82a6fb;\n",
              "  color: #f1f1f1;\n",
              "}\n",
              "#T_f03d8_row1_col0, #T_f03d8_row4_col10 {\n",
              "  background-color: #4b64d5;\n",
              "  color: #f1f1f1;\n",
              "}\n",
              "#T_f03d8_row1_col2, #T_f03d8_row1_col5, #T_f03d8_row1_col10, #T_f03d8_row2_col1, #T_f03d8_row2_col3, #T_f03d8_row2_col11, #T_f03d8_row2_col12, #T_f03d8_row2_col15, #T_f03d8_row3_col0, #T_f03d8_row3_col14, #T_f03d8_row4_col8, #T_f03d8_row8_col4, #T_f03d8_row9_col6, #T_f03d8_row12_col9, #T_f03d8_row12_col13, #T_f03d8_row15_col7 {\n",
              "  background-color: #3b4cc0;\n",
              "  color: #f1f1f1;\n",
              "}\n",
              "#T_f03d8_row1_col3 {\n",
              "  background-color: #f49a7b;\n",
              "  color: #000000;\n",
              "}\n",
              "#T_f03d8_row1_col4, #T_f03d8_row4_col5, #T_f03d8_row5_col0, #T_f03d8_row5_col1, #T_f03d8_row9_col11, #T_f03d8_row10_col9 {\n",
              "  background-color: #5a78e4;\n",
              "  color: #f1f1f1;\n",
              "}\n",
              "#T_f03d8_row1_col6, #T_f03d8_row10_col11 {\n",
              "  background-color: #6384eb;\n",
              "  color: #f1f1f1;\n",
              "}\n",
              "#T_f03d8_row1_col7, #T_f03d8_row8_col10, #T_f03d8_row9_col12 {\n",
              "  background-color: #4a63d3;\n",
              "  color: #f1f1f1;\n",
              "}\n",
              "#T_f03d8_row1_col8, #T_f03d8_row6_col3, #T_f03d8_row9_col2 {\n",
              "  background-color: #a9c6fd;\n",
              "  color: #000000;\n",
              "}\n",
              "#T_f03d8_row1_col9, #T_f03d8_row3_col13, #T_f03d8_row5_col6 {\n",
              "  background-color: #4f69d9;\n",
              "  color: #f1f1f1;\n",
              "}\n",
              "#T_f03d8_row1_col11, #T_f03d8_row4_col15, #T_f03d8_row10_col4, #T_f03d8_row15_col14 {\n",
              "  background-color: #779af7;\n",
              "  color: #f1f1f1;\n",
              "}\n",
              "#T_f03d8_row1_col12 {\n",
              "  background-color: #b2ccfb;\n",
              "  color: #000000;\n",
              "}\n",
              "#T_f03d8_row1_col13, #T_f03d8_row6_col14, #T_f03d8_row10_col6, #T_f03d8_row13_col11, #T_f03d8_row14_col3, #T_f03d8_row15_col13 {\n",
              "  background-color: #5e7de7;\n",
              "  color: #f1f1f1;\n",
              "}\n",
              "#T_f03d8_row1_col14, #T_f03d8_row7_col13 {\n",
              "  background-color: #4358cb;\n",
              "  color: #f1f1f1;\n",
              "}\n",
              "#T_f03d8_row1_col15, #T_f03d8_row14_col2 {\n",
              "  background-color: #b1cbfc;\n",
              "  color: #000000;\n",
              "}\n",
              "#T_f03d8_row2_col0, #T_f03d8_row5_col11, #T_f03d8_row6_col13, #T_f03d8_row14_col5 {\n",
              "  background-color: #6788ee;\n",
              "  color: #f1f1f1;\n",
              "}\n",
              "#T_f03d8_row2_col4, #T_f03d8_row2_col13 {\n",
              "  background-color: #a3c2fe;\n",
              "  color: #000000;\n",
              "}\n",
              "#T_f03d8_row2_col5, #T_f03d8_row9_col13 {\n",
              "  background-color: #7295f4;\n",
              "  color: #f1f1f1;\n",
              "}\n",
              "#T_f03d8_row2_col6, #T_f03d8_row3_col2 {\n",
              "  background-color: #3e51c5;\n",
              "  color: #f1f1f1;\n",
              "}\n",
              "#T_f03d8_row2_col7, #T_f03d8_row15_col2 {\n",
              "  background-color: #516ddb;\n",
              "  color: #f1f1f1;\n",
              "}\n",
              "#T_f03d8_row2_col8, #T_f03d8_row5_col10 {\n",
              "  background-color: #4e68d8;\n",
              "  color: #f1f1f1;\n",
              "}\n",
              "#T_f03d8_row2_col9 {\n",
              "  background-color: #84a7fc;\n",
              "  color: #f1f1f1;\n",
              "}\n",
              "#T_f03d8_row2_col10 {\n",
              "  background-color: #4055c8;\n",
              "  color: #f1f1f1;\n",
              "}\n",
              "#T_f03d8_row2_col14, #T_f03d8_row4_col9, #T_f03d8_row5_col2, #T_f03d8_row13_col1 {\n",
              "  background-color: #90b2fe;\n",
              "  color: #000000;\n",
              "}\n",
              "#T_f03d8_row3_col1 {\n",
              "  background-color: #f4987a;\n",
              "  color: #000000;\n",
              "}\n",
              "#T_f03d8_row3_col4, #T_f03d8_row5_col3, #T_f03d8_row9_col14, #T_f03d8_row10_col14, #T_f03d8_row12_col0 {\n",
              "  background-color: #7396f5;\n",
              "  color: #f1f1f1;\n",
              "}\n",
              "#T_f03d8_row3_col5, #T_f03d8_row11_col0, #T_f03d8_row13_col6 {\n",
              "  background-color: #5673e0;\n",
              "  color: #f1f1f1;\n",
              "}\n",
              "#T_f03d8_row3_col6, #T_f03d8_row3_col7, #T_f03d8_row5_col12, #T_f03d8_row11_col14 {\n",
              "  background-color: #6e90f2;\n",
              "  color: #f1f1f1;\n",
              "}\n",
              "#T_f03d8_row3_col8 {\n",
              "  background-color: #92b4fe;\n",
              "  color: #000000;\n",
              "}\n",
              "#T_f03d8_row3_col10, #T_f03d8_row11_col10 {\n",
              "  background-color: #485fd1;\n",
              "  color: #f1f1f1;\n",
              "}\n",
              "#T_f03d8_row3_col11, #T_f03d8_row14_col15 {\n",
              "  background-color: #88abfd;\n",
              "  color: #000000;\n",
              "}\n",
              "#T_f03d8_row3_col12, #T_f03d8_row6_col11, #T_f03d8_row7_col3, #T_f03d8_row7_col10 {\n",
              "  background-color: #98b9ff;\n",
              "  color: #000000;\n",
              "}\n",
              "#T_f03d8_row3_col15 {\n",
              "  background-color: #9abbff;\n",
              "  color: #000000;\n",
              "}\n",
              "#T_f03d8_row4_col0, #T_f03d8_row4_col11, #T_f03d8_row6_col4, #T_f03d8_row12_col14 {\n",
              "  background-color: #7ea1fa;\n",
              "  color: #f1f1f1;\n",
              "}\n",
              "#T_f03d8_row4_col1, #T_f03d8_row10_col13, #T_f03d8_row10_col15, #T_f03d8_row14_col9 {\n",
              "  background-color: #7093f3;\n",
              "  color: #f1f1f1;\n",
              "}\n",
              "#T_f03d8_row4_col2 {\n",
              "  background-color: #b5cdfa;\n",
              "  color: #000000;\n",
              "}\n",
              "#T_f03d8_row4_col3, #T_f03d8_row5_col15, #T_f03d8_row7_col4, #T_f03d8_row10_col3, #T_f03d8_row13_col8 {\n",
              "  background-color: #85a8fc;\n",
              "  color: #f1f1f1;\n",
              "}\n",
              "#T_f03d8_row4_col6, #T_f03d8_row9_col0, #T_f03d8_row9_col15, #T_f03d8_row11_col13 {\n",
              "  background-color: #506bda;\n",
              "  color: #f1f1f1;\n",
              "}\n",
              "#T_f03d8_row4_col13, #T_f03d8_row14_col10 {\n",
              "  background-color: #5875e1;\n",
              "  color: #f1f1f1;\n",
              "}\n",
              "#T_f03d8_row4_col14 {\n",
              "  background-color: #dfdbd9;\n",
              "  color: #000000;\n",
              "}\n",
              "#T_f03d8_row5_col7, #T_f03d8_row8_col6, #T_f03d8_row10_col0 {\n",
              "  background-color: #5f7fe8;\n",
              "  color: #f1f1f1;\n",
              "}\n",
              "#T_f03d8_row5_col8, #T_f03d8_row15_col11 {\n",
              "  background-color: #86a9fc;\n",
              "  color: #f1f1f1;\n",
              "}\n",
              "#T_f03d8_row5_col13, #T_f03d8_row7_col0, #T_f03d8_row8_col14, #T_f03d8_row12_col7, #T_f03d8_row13_col14 {\n",
              "  background-color: #5977e3;\n",
              "  color: #f1f1f1;\n",
              "}\n",
              "#T_f03d8_row5_col14, #T_f03d8_row6_col10, #T_f03d8_row9_col8, #T_f03d8_row11_col2, #T_f03d8_row13_col0 {\n",
              "  background-color: #6180e9;\n",
              "  color: #f1f1f1;\n",
              "}\n",
              "#T_f03d8_row6_col0, #T_f03d8_row7_col8, #T_f03d8_row10_col8 {\n",
              "  background-color: #7699f6;\n",
              "  color: #f1f1f1;\n",
              "}\n",
              "#T_f03d8_row6_col1 {\n",
              "  background-color: #a5c3fe;\n",
              "  color: #000000;\n",
              "}\n",
              "#T_f03d8_row6_col8, #T_f03d8_row11_col4 {\n",
              "  background-color: #8db0fe;\n",
              "  color: #000000;\n",
              "}\n",
              "#T_f03d8_row6_col9, #T_f03d8_row11_col9, #T_f03d8_row12_col2, #T_f03d8_row15_col6 {\n",
              "  background-color: #5572df;\n",
              "  color: #f1f1f1;\n",
              "}\n",
              "#T_f03d8_row7_col1, #T_f03d8_row9_col7, #T_f03d8_row11_col6, #T_f03d8_row13_col9 {\n",
              "  background-color: #7b9ff9;\n",
              "  color: #f1f1f1;\n",
              "}\n",
              "#T_f03d8_row7_col2, #T_f03d8_row7_col9 {\n",
              "  background-color: #81a4fb;\n",
              "  color: #f1f1f1;\n",
              "}\n",
              "#T_f03d8_row7_col6 {\n",
              "  background-color: #465ecf;\n",
              "  color: #f1f1f1;\n",
              "}\n",
              "#T_f03d8_row7_col15, #T_f03d8_row13_col12 {\n",
              "  background-color: #5470de;\n",
              "  color: #f1f1f1;\n",
              "}\n",
              "#T_f03d8_row8_col0, #T_f03d8_row9_col10 {\n",
              "  background-color: #4257c9;\n",
              "  color: #f1f1f1;\n",
              "}\n",
              "#T_f03d8_row8_col1 {\n",
              "  background-color: #bad0f8;\n",
              "  color: #000000;\n",
              "}\n",
              "#T_f03d8_row8_col3 {\n",
              "  background-color: #a1c0ff;\n",
              "  color: #000000;\n",
              "}\n",
              "#T_f03d8_row8_col5, #T_f03d8_row10_col1, #T_f03d8_row15_col5 {\n",
              "  background-color: #7da0f9;\n",
              "  color: #f1f1f1;\n",
              "}\n",
              "#T_f03d8_row8_col9, #T_f03d8_row14_col13 {\n",
              "  background-color: #4c66d6;\n",
              "  color: #f1f1f1;\n",
              "}\n",
              "#T_f03d8_row8_col11 {\n",
              "  background-color: #9ebeff;\n",
              "  color: #000000;\n",
              "}\n",
              "#T_f03d8_row8_col12, #T_f03d8_row14_col12 {\n",
              "  background-color: #8badfd;\n",
              "  color: #000000;\n",
              "}\n",
              "#T_f03d8_row8_col13, #T_f03d8_row12_col5 {\n",
              "  background-color: #688aef;\n",
              "  color: #f1f1f1;\n",
              "}\n",
              "#T_f03d8_row10_col7, #T_f03d8_row11_col3, #T_f03d8_row11_col12 {\n",
              "  background-color: #a6c4fe;\n",
              "  color: #000000;\n",
              "}\n",
              "#T_f03d8_row10_col12 {\n",
              "  background-color: #8caffe;\n",
              "  color: #000000;\n",
              "}\n",
              "#T_f03d8_row11_col1, #T_f03d8_row12_col11 {\n",
              "  background-color: #9bbcff;\n",
              "  color: #000000;\n",
              "}\n",
              "#T_f03d8_row11_col5, #T_f03d8_row13_col5 {\n",
              "  background-color: #6c8ff1;\n",
              "  color: #f1f1f1;\n",
              "}\n",
              "#T_f03d8_row11_col7, #T_f03d8_row14_col1, #T_f03d8_row14_col8 {\n",
              "  background-color: #6a8bef;\n",
              "  color: #f1f1f1;\n",
              "}\n",
              "#T_f03d8_row11_col8, #T_f03d8_row15_col3 {\n",
              "  background-color: #aac7fd;\n",
              "  color: #000000;\n",
              "}\n",
              "#T_f03d8_row12_col1 {\n",
              "  background-color: #c4d5f3;\n",
              "  color: #000000;\n",
              "}\n",
              "#T_f03d8_row12_col3 {\n",
              "  background-color: #abc8fd;\n",
              "  color: #000000;\n",
              "}\n",
              "#T_f03d8_row12_col8 {\n",
              "  background-color: #8fb1fe;\n",
              "  color: #000000;\n",
              "}\n",
              "#T_f03d8_row12_col15, #T_f03d8_row15_col12 {\n",
              "  background-color: #f7ad90;\n",
              "  color: #000000;\n",
              "}\n",
              "#T_f03d8_row13_col2 {\n",
              "  background-color: #c9d7f0;\n",
              "  color: #000000;\n",
              "}\n",
              "#T_f03d8_row13_col3 {\n",
              "  background-color: #80a3fa;\n",
              "  color: #f1f1f1;\n",
              "}\n",
              "#T_f03d8_row13_col7, #T_f03d8_row15_col10 {\n",
              "  background-color: #455cce;\n",
              "  color: #f1f1f1;\n",
              "}\n",
              "#T_f03d8_row13_col10, #T_f03d8_row14_col0 {\n",
              "  background-color: #6282ea;\n",
              "  color: #f1f1f1;\n",
              "}\n",
              "#T_f03d8_row13_col15 {\n",
              "  background-color: #7a9df8;\n",
              "  color: #f1f1f1;\n",
              "}\n",
              "#T_f03d8_row14_col4 {\n",
              "  background-color: #e6d7cf;\n",
              "  color: #000000;\n",
              "}\n",
              "#T_f03d8_row14_col6 {\n",
              "  background-color: #3f53c6;\n",
              "  color: #f1f1f1;\n",
              "}\n",
              "#T_f03d8_row15_col1 {\n",
              "  background-color: #c0d4f5;\n",
              "  color: #000000;\n",
              "}\n",
              "#T_f03d8_row15_col9 {\n",
              "  background-color: #3d50c3;\n",
              "  color: #f1f1f1;\n",
              "}\n",
              "</style>\n",
              "<table id=\"T_f03d8_\" class=\"dataframe\">\n",
              "  <thead>\n",
              "    <tr>\n",
              "      <th class=\"blank level0\" >&nbsp;</th>\n",
              "      <th class=\"col_heading level0 col0\" >absences</th>\n",
              "      <th class=\"col_heading level0 col1\" >G1</th>\n",
              "      <th class=\"col_heading level0 col2\" >failures</th>\n",
              "      <th class=\"col_heading level0 col3\" >pass</th>\n",
              "      <th class=\"col_heading level0 col4\" >Walc</th>\n",
              "      <th class=\"col_heading level0 col5\" >schoolsup</th>\n",
              "      <th class=\"col_heading level0 col6\" >reason</th>\n",
              "      <th class=\"col_heading level0 col7\" >Fjob</th>\n",
              "      <th class=\"col_heading level0 col8\" >studytime</th>\n",
              "      <th class=\"col_heading level0 col9\" >traveltime</th>\n",
              "      <th class=\"col_heading level0 col10\" >Mjob</th>\n",
              "      <th class=\"col_heading level0 col11\" >paid</th>\n",
              "      <th class=\"col_heading level0 col12\" >Medu</th>\n",
              "      <th class=\"col_heading level0 col13\" >guardian</th>\n",
              "      <th class=\"col_heading level0 col14\" >goout</th>\n",
              "      <th class=\"col_heading level0 col15\" >Fedu</th>\n",
              "    </tr>\n",
              "  </thead>\n",
              "  <tbody>\n",
              "    <tr>\n",
              "      <th id=\"T_f03d8_level0_row0\" class=\"row_heading level0 row0\" >absences</th>\n",
              "      <td id=\"T_f03d8_row0_col0\" class=\"data row0 col0\" >1.00</td>\n",
              "      <td id=\"T_f03d8_row0_col1\" class=\"data row0 col1\" >-0.03</td>\n",
              "      <td id=\"T_f03d8_row0_col2\" class=\"data row0 col2\" >0.06</td>\n",
              "      <td id=\"T_f03d8_row0_col3\" class=\"data row0 col3\" >-0.09</td>\n",
              "      <td id=\"T_f03d8_row0_col4\" class=\"data row0 col4\" >0.14</td>\n",
              "      <td id=\"T_f03d8_row0_col5\" class=\"data row0 col5\" >0.02</td>\n",
              "      <td id=\"T_f03d8_row0_col6\" class=\"data row0 col6\" >0.11</td>\n",
              "      <td id=\"T_f03d8_row0_col7\" class=\"data row0 col7\" >0.02</td>\n",
              "      <td id=\"T_f03d8_row0_col8\" class=\"data row0 col8\" >-0.06</td>\n",
              "      <td id=\"T_f03d8_row0_col9\" class=\"data row0 col9\" >-0.01</td>\n",
              "      <td id=\"T_f03d8_row0_col10\" class=\"data row0 col10\" >0.04</td>\n",
              "      <td id=\"T_f03d8_row0_col11\" class=\"data row0 col11\" >0.01</td>\n",
              "      <td id=\"T_f03d8_row0_col12\" class=\"data row0 col12\" >0.10</td>\n",
              "      <td id=\"T_f03d8_row0_col13\" class=\"data row0 col13\" >0.04</td>\n",
              "      <td id=\"T_f03d8_row0_col14\" class=\"data row0 col14\" >0.04</td>\n",
              "      <td id=\"T_f03d8_row0_col15\" class=\"data row0 col15\" >0.02</td>\n",
              "    </tr>\n",
              "    <tr>\n",
              "      <th id=\"T_f03d8_level0_row1\" class=\"row_heading level0 row1\" >G1</th>\n",
              "      <td id=\"T_f03d8_row1_col0\" class=\"data row1 col0\" >-0.03</td>\n",
              "      <td id=\"T_f03d8_row1_col1\" class=\"data row1 col1\" >1.00</td>\n",
              "      <td id=\"T_f03d8_row1_col2\" class=\"data row1 col2\" >-0.35</td>\n",
              "      <td id=\"T_f03d8_row1_col3\" class=\"data row1 col3\" >0.66</td>\n",
              "      <td id=\"T_f03d8_row1_col4\" class=\"data row1 col4\" >-0.13</td>\n",
              "      <td id=\"T_f03d8_row1_col5\" class=\"data row1 col5\" >-0.21</td>\n",
              "      <td id=\"T_f03d8_row1_col6\" class=\"data row1 col6\" >0.07</td>\n",
              "      <td id=\"T_f03d8_row1_col7\" class=\"data row1 col7\" >-0.08</td>\n",
              "      <td id=\"T_f03d8_row1_col8\" class=\"data row1 col8\" >0.16</td>\n",
              "      <td id=\"T_f03d8_row1_col9\" class=\"data row1 col9\" >-0.09</td>\n",
              "      <td id=\"T_f03d8_row1_col10\" class=\"data row1 col10\" >-0.08</td>\n",
              "      <td id=\"T_f03d8_row1_col11\" class=\"data row1 col11\" >0.04</td>\n",
              "      <td id=\"T_f03d8_row1_col12\" class=\"data row1 col12\" >0.21</td>\n",
              "      <td id=\"T_f03d8_row1_col13\" class=\"data row1 col13\" >-0.00</td>\n",
              "      <td id=\"T_f03d8_row1_col14\" class=\"data row1 col14\" >-0.15</td>\n",
              "      <td id=\"T_f03d8_row1_col15\" class=\"data row1 col15\" >0.19</td>\n",
              "    </tr>\n",
              "    <tr>\n",
              "      <th id=\"T_f03d8_level0_row2\" class=\"row_heading level0 row2\" >failures</th>\n",
              "      <td id=\"T_f03d8_row2_col0\" class=\"data row2 col0\" >0.06</td>\n",
              "      <td id=\"T_f03d8_row2_col1\" class=\"data row2 col1\" >-0.35</td>\n",
              "      <td id=\"T_f03d8_row2_col2\" class=\"data row2 col2\" >1.00</td>\n",
              "      <td id=\"T_f03d8_row2_col3\" class=\"data row2 col3\" >-0.34</td>\n",
              "      <td id=\"T_f03d8_row2_col4\" class=\"data row2 col4\" >0.14</td>\n",
              "      <td id=\"T_f03d8_row2_col5\" class=\"data row2 col5\" >-0.00</td>\n",
              "      <td id=\"T_f03d8_row2_col6\" class=\"data row2 col6\" >-0.05</td>\n",
              "      <td id=\"T_f03d8_row2_col7\" class=\"data row2 col7\" >-0.06</td>\n",
              "      <td id=\"T_f03d8_row2_col8\" class=\"data row2 col8\" >-0.17</td>\n",
              "      <td id=\"T_f03d8_row2_col9\" class=\"data row2 col9\" >0.09</td>\n",
              "      <td id=\"T_f03d8_row2_col10\" class=\"data row2 col10\" >-0.06</td>\n",
              "      <td id=\"T_f03d8_row2_col11\" class=\"data row2 col11\" >-0.19</td>\n",
              "      <td id=\"T_f03d8_row2_col12\" class=\"data row2 col12\" >-0.24</td>\n",
              "      <td id=\"T_f03d8_row2_col13\" class=\"data row2 col13\" >0.22</td>\n",
              "      <td id=\"T_f03d8_row2_col14\" class=\"data row2 col14\" >0.12</td>\n",
              "      <td id=\"T_f03d8_row2_col15\" class=\"data row2 col15\" >-0.25</td>\n",
              "    </tr>\n",
              "    <tr>\n",
              "      <th id=\"T_f03d8_level0_row3\" class=\"row_heading level0 row3\" >pass</th>\n",
              "      <td id=\"T_f03d8_row3_col0\" class=\"data row3 col0\" >-0.09</td>\n",
              "      <td id=\"T_f03d8_row3_col1\" class=\"data row3 col1\" >0.66</td>\n",
              "      <td id=\"T_f03d8_row3_col2\" class=\"data row3 col2\" >-0.34</td>\n",
              "      <td id=\"T_f03d8_row3_col3\" class=\"data row3 col3\" >1.00</td>\n",
              "      <td id=\"T_f03d8_row3_col4\" class=\"data row3 col4\" >-0.03</td>\n",
              "      <td id=\"T_f03d8_row3_col5\" class=\"data row3 col5\" >-0.10</td>\n",
              "      <td id=\"T_f03d8_row3_col6\" class=\"data row3 col6\" >0.11</td>\n",
              "      <td id=\"T_f03d8_row3_col7\" class=\"data row3 col7\" >0.04</td>\n",
              "      <td id=\"T_f03d8_row3_col8\" class=\"data row3 col8\" >0.07</td>\n",
              "      <td id=\"T_f03d8_row3_col9\" class=\"data row3 col9\" >-0.04</td>\n",
              "      <td id=\"T_f03d8_row3_col10\" class=\"data row3 col10\" >-0.03</td>\n",
              "      <td id=\"T_f03d8_row3_col11\" class=\"data row3 col11\" >0.09</td>\n",
              "      <td id=\"T_f03d8_row3_col12\" class=\"data row3 col12\" >0.12</td>\n",
              "      <td id=\"T_f03d8_row3_col13\" class=\"data row3 col13\" >-0.05</td>\n",
              "      <td id=\"T_f03d8_row3_col14\" class=\"data row3 col14\" >-0.18</td>\n",
              "      <td id=\"T_f03d8_row3_col15\" class=\"data row3 col15\" >0.11</td>\n",
              "    </tr>\n",
              "    <tr>\n",
              "      <th id=\"T_f03d8_level0_row4\" class=\"row_heading level0 row4\" >Walc</th>\n",
              "      <td id=\"T_f03d8_row4_col0\" class=\"data row4 col0\" >0.14</td>\n",
              "      <td id=\"T_f03d8_row4_col1\" class=\"data row4 col1\" >-0.13</td>\n",
              "      <td id=\"T_f03d8_row4_col2\" class=\"data row4 col2\" >0.14</td>\n",
              "      <td id=\"T_f03d8_row4_col3\" class=\"data row4 col3\" >-0.03</td>\n",
              "      <td id=\"T_f03d8_row4_col4\" class=\"data row4 col4\" >1.00</td>\n",
              "      <td id=\"T_f03d8_row4_col5\" class=\"data row4 col5\" >-0.09</td>\n",
              "      <td id=\"T_f03d8_row4_col6\" class=\"data row4 col6\" >0.01</td>\n",
              "      <td id=\"T_f03d8_row4_col7\" class=\"data row4 col7\" >0.03</td>\n",
              "      <td id=\"T_f03d8_row4_col8\" class=\"data row4 col8\" >-0.25</td>\n",
              "      <td id=\"T_f03d8_row4_col9\" class=\"data row4 col9\" >0.13</td>\n",
              "      <td id=\"T_f03d8_row4_col10\" class=\"data row4 col10\" >-0.02</td>\n",
              "      <td id=\"T_f03d8_row4_col11\" class=\"data row4 col11\" >0.06</td>\n",
              "      <td id=\"T_f03d8_row4_col12\" class=\"data row4 col12\" >-0.05</td>\n",
              "      <td id=\"T_f03d8_row4_col13\" class=\"data row4 col13\" >-0.02</td>\n",
              "      <td id=\"T_f03d8_row4_col14\" class=\"data row4 col14\" >0.42</td>\n",
              "      <td id=\"T_f03d8_row4_col15\" class=\"data row4 col15\" >-0.01</td>\n",
              "    </tr>\n",
              "    <tr>\n",
              "      <th id=\"T_f03d8_level0_row5\" class=\"row_heading level0 row5\" >schoolsup</th>\n",
              "      <td id=\"T_f03d8_row5_col0\" class=\"data row5 col0\" >0.02</td>\n",
              "      <td id=\"T_f03d8_row5_col1\" class=\"data row5 col1\" >-0.21</td>\n",
              "      <td id=\"T_f03d8_row5_col2\" class=\"data row5 col2\" >-0.00</td>\n",
              "      <td id=\"T_f03d8_row5_col3\" class=\"data row5 col3\" >-0.10</td>\n",
              "      <td id=\"T_f03d8_row5_col4\" class=\"data row5 col4\" >-0.09</td>\n",
              "      <td id=\"T_f03d8_row5_col5\" class=\"data row5 col5\" >1.00</td>\n",
              "      <td id=\"T_f03d8_row5_col6\" class=\"data row5 col6\" >0.01</td>\n",
              "      <td id=\"T_f03d8_row5_col7\" class=\"data row5 col7\" >-0.01</td>\n",
              "      <td id=\"T_f03d8_row5_col8\" class=\"data row5 col8\" >0.04</td>\n",
              "      <td id=\"T_f03d8_row5_col9\" class=\"data row5 col9\" >-0.01</td>\n",
              "      <td id=\"T_f03d8_row5_col10\" class=\"data row5 col10\" >-0.01</td>\n",
              "      <td id=\"T_f03d8_row5_col11\" class=\"data row5 col11\" >-0.02</td>\n",
              "      <td id=\"T_f03d8_row5_col12\" class=\"data row5 col12\" >-0.04</td>\n",
              "      <td id=\"T_f03d8_row5_col13\" class=\"data row5 col13\" >-0.02</td>\n",
              "      <td id=\"T_f03d8_row5_col14\" class=\"data row5 col14\" >-0.04</td>\n",
              "      <td id=\"T_f03d8_row5_col15\" class=\"data row5 col15\" >0.04</td>\n",
              "    </tr>\n",
              "    <tr>\n",
              "      <th id=\"T_f03d8_level0_row6\" class=\"row_heading level0 row6\" >reason</th>\n",
              "      <td id=\"T_f03d8_row6_col0\" class=\"data row6 col0\" >0.11</td>\n",
              "      <td id=\"T_f03d8_row6_col1\" class=\"data row6 col1\" >0.07</td>\n",
              "      <td id=\"T_f03d8_row6_col2\" class=\"data row6 col2\" >-0.05</td>\n",
              "      <td id=\"T_f03d8_row6_col3\" class=\"data row6 col3\" >0.11</td>\n",
              "      <td id=\"T_f03d8_row6_col4\" class=\"data row6 col4\" >0.01</td>\n",
              "      <td id=\"T_f03d8_row6_col5\" class=\"data row6 col5\" >0.01</td>\n",
              "      <td id=\"T_f03d8_row6_col6\" class=\"data row6 col6\" >1.00</td>\n",
              "      <td id=\"T_f03d8_row6_col7\" class=\"data row6 col7\" >-0.02</td>\n",
              "      <td id=\"T_f03d8_row6_col8\" class=\"data row6 col8\" >0.06</td>\n",
              "      <td id=\"T_f03d8_row6_col9\" class=\"data row6 col9\" >-0.07</td>\n",
              "      <td id=\"T_f03d8_row6_col10\" class=\"data row6 col10\" >0.05</td>\n",
              "      <td id=\"T_f03d8_row6_col11\" class=\"data row6 col11\" >0.15</td>\n",
              "      <td id=\"T_f03d8_row6_col12\" class=\"data row6 col12\" >0.10</td>\n",
              "      <td id=\"T_f03d8_row6_col13\" class=\"data row6 col13\" >0.03</td>\n",
              "      <td id=\"T_f03d8_row6_col14\" class=\"data row6 col14\" >-0.05</td>\n",
              "      <td id=\"T_f03d8_row6_col15\" class=\"data row6 col15\" >0.03</td>\n",
              "    </tr>\n",
              "    <tr>\n",
              "      <th id=\"T_f03d8_level0_row7\" class=\"row_heading level0 row7\" >Fjob</th>\n",
              "      <td id=\"T_f03d8_row7_col0\" class=\"data row7 col0\" >0.02</td>\n",
              "      <td id=\"T_f03d8_row7_col1\" class=\"data row7 col1\" >-0.08</td>\n",
              "      <td id=\"T_f03d8_row7_col2\" class=\"data row7 col2\" >-0.06</td>\n",
              "      <td id=\"T_f03d8_row7_col3\" class=\"data row7 col3\" >0.04</td>\n",
              "      <td id=\"T_f03d8_row7_col4\" class=\"data row7 col4\" >0.03</td>\n",
              "      <td id=\"T_f03d8_row7_col5\" class=\"data row7 col5\" >-0.01</td>\n",
              "      <td id=\"T_f03d8_row7_col6\" class=\"data row7 col6\" >-0.02</td>\n",
              "      <td id=\"T_f03d8_row7_col7\" class=\"data row7 col7\" >1.00</td>\n",
              "      <td id=\"T_f03d8_row7_col8\" class=\"data row7 col8\" >-0.02</td>\n",
              "      <td id=\"T_f03d8_row7_col9\" class=\"data row7 col9\" >0.08</td>\n",
              "      <td id=\"T_f03d8_row7_col10\" class=\"data row7 col10\" >0.23</td>\n",
              "      <td id=\"T_f03d8_row7_col11\" class=\"data row7 col11\" >0.03</td>\n",
              "      <td id=\"T_f03d8_row7_col12\" class=\"data row7 col12\" >-0.03</td>\n",
              "      <td id=\"T_f03d8_row7_col13\" class=\"data row7 col13\" >-0.10</td>\n",
              "      <td id=\"T_f03d8_row7_col14\" class=\"data row7 col14\" >0.05</td>\n",
              "      <td id=\"T_f03d8_row7_col15\" class=\"data row7 col15\" >-0.14</td>\n",
              "    </tr>\n",
              "    <tr>\n",
              "      <th id=\"T_f03d8_level0_row8\" class=\"row_heading level0 row8\" >studytime</th>\n",
              "      <td id=\"T_f03d8_row8_col0\" class=\"data row8 col0\" >-0.06</td>\n",
              "      <td id=\"T_f03d8_row8_col1\" class=\"data row8 col1\" >0.16</td>\n",
              "      <td id=\"T_f03d8_row8_col2\" class=\"data row8 col2\" >-0.17</td>\n",
              "      <td id=\"T_f03d8_row8_col3\" class=\"data row8 col3\" >0.07</td>\n",
              "      <td id=\"T_f03d8_row8_col4\" class=\"data row8 col4\" >-0.25</td>\n",
              "      <td id=\"T_f03d8_row8_col5\" class=\"data row8 col5\" >0.04</td>\n",
              "      <td id=\"T_f03d8_row8_col6\" class=\"data row8 col6\" >0.06</td>\n",
              "      <td id=\"T_f03d8_row8_col7\" class=\"data row8 col7\" >-0.02</td>\n",
              "      <td id=\"T_f03d8_row8_col8\" class=\"data row8 col8\" >1.00</td>\n",
              "      <td id=\"T_f03d8_row8_col9\" class=\"data row8 col9\" >-0.10</td>\n",
              "      <td id=\"T_f03d8_row8_col10\" class=\"data row8 col10\" >-0.02</td>\n",
              "      <td id=\"T_f03d8_row8_col11\" class=\"data row8 col11\" >0.17</td>\n",
              "      <td id=\"T_f03d8_row8_col12\" class=\"data row8 col12\" >0.06</td>\n",
              "      <td id=\"T_f03d8_row8_col13\" class=\"data row8 col13\" >0.03</td>\n",
              "      <td id=\"T_f03d8_row8_col14\" class=\"data row8 col14\" >-0.06</td>\n",
              "      <td id=\"T_f03d8_row8_col15\" class=\"data row8 col15\" >-0.01</td>\n",
              "    </tr>\n",
              "    <tr>\n",
              "      <th id=\"T_f03d8_level0_row9\" class=\"row_heading level0 row9\" >traveltime</th>\n",
              "      <td id=\"T_f03d8_row9_col0\" class=\"data row9 col0\" >-0.01</td>\n",
              "      <td id=\"T_f03d8_row9_col1\" class=\"data row9 col1\" >-0.09</td>\n",
              "      <td id=\"T_f03d8_row9_col2\" class=\"data row9 col2\" >0.09</td>\n",
              "      <td id=\"T_f03d8_row9_col3\" class=\"data row9 col3\" >-0.04</td>\n",
              "      <td id=\"T_f03d8_row9_col4\" class=\"data row9 col4\" >0.13</td>\n",
              "      <td id=\"T_f03d8_row9_col5\" class=\"data row9 col5\" >-0.01</td>\n",
              "      <td id=\"T_f03d8_row9_col6\" class=\"data row9 col6\" >-0.07</td>\n",
              "      <td id=\"T_f03d8_row9_col7\" class=\"data row9 col7\" >0.08</td>\n",
              "      <td id=\"T_f03d8_row9_col8\" class=\"data row9 col8\" >-0.10</td>\n",
              "      <td id=\"T_f03d8_row9_col9\" class=\"data row9 col9\" >1.00</td>\n",
              "      <td id=\"T_f03d8_row9_col10\" class=\"data row9 col10\" >-0.05</td>\n",
              "      <td id=\"T_f03d8_row9_col11\" class=\"data row9 col11\" >-0.07</td>\n",
              "      <td id=\"T_f03d8_row9_col12\" class=\"data row9 col12\" >-0.17</td>\n",
              "      <td id=\"T_f03d8_row9_col13\" class=\"data row9 col13\" >0.06</td>\n",
              "      <td id=\"T_f03d8_row9_col14\" class=\"data row9 col14\" >0.03</td>\n",
              "      <td id=\"T_f03d8_row9_col15\" class=\"data row9 col15\" >-0.16</td>\n",
              "    </tr>\n",
              "    <tr>\n",
              "      <th id=\"T_f03d8_level0_row10\" class=\"row_heading level0 row10\" >Mjob</th>\n",
              "      <td id=\"T_f03d8_row10_col0\" class=\"data row10 col0\" >0.04</td>\n",
              "      <td id=\"T_f03d8_row10_col1\" class=\"data row10 col1\" >-0.08</td>\n",
              "      <td id=\"T_f03d8_row10_col2\" class=\"data row10 col2\" >-0.06</td>\n",
              "      <td id=\"T_f03d8_row10_col3\" class=\"data row10 col3\" >-0.03</td>\n",
              "      <td id=\"T_f03d8_row10_col4\" class=\"data row10 col4\" >-0.02</td>\n",
              "      <td id=\"T_f03d8_row10_col5\" class=\"data row10 col5\" >-0.01</td>\n",
              "      <td id=\"T_f03d8_row10_col6\" class=\"data row10 col6\" >0.05</td>\n",
              "      <td id=\"T_f03d8_row10_col7\" class=\"data row10 col7\" >0.23</td>\n",
              "      <td id=\"T_f03d8_row10_col8\" class=\"data row10 col8\" >-0.02</td>\n",
              "      <td id=\"T_f03d8_row10_col9\" class=\"data row10 col9\" >-0.05</td>\n",
              "      <td id=\"T_f03d8_row10_col10\" class=\"data row10 col10\" >1.00</td>\n",
              "      <td id=\"T_f03d8_row10_col11\" class=\"data row10 col11\" >-0.03</td>\n",
              "      <td id=\"T_f03d8_row10_col12\" class=\"data row10 col12\" >0.07</td>\n",
              "      <td id=\"T_f03d8_row10_col13\" class=\"data row10 col13\" >0.06</td>\n",
              "      <td id=\"T_f03d8_row10_col14\" class=\"data row10 col14\" >0.02</td>\n",
              "      <td id=\"T_f03d8_row10_col15\" class=\"data row10 col15\" >-0.04</td>\n",
              "    </tr>\n",
              "    <tr>\n",
              "      <th id=\"T_f03d8_level0_row11\" class=\"row_heading level0 row11\" >paid</th>\n",
              "      <td id=\"T_f03d8_row11_col0\" class=\"data row11 col0\" >0.01</td>\n",
              "      <td id=\"T_f03d8_row11_col1\" class=\"data row11 col1\" >0.04</td>\n",
              "      <td id=\"T_f03d8_row11_col2\" class=\"data row11 col2\" >-0.19</td>\n",
              "      <td id=\"T_f03d8_row11_col3\" class=\"data row11 col3\" >0.09</td>\n",
              "      <td id=\"T_f03d8_row11_col4\" class=\"data row11 col4\" >0.06</td>\n",
              "      <td id=\"T_f03d8_row11_col5\" class=\"data row11 col5\" >-0.02</td>\n",
              "      <td id=\"T_f03d8_row11_col6\" class=\"data row11 col6\" >0.15</td>\n",
              "      <td id=\"T_f03d8_row11_col7\" class=\"data row11 col7\" >0.03</td>\n",
              "      <td id=\"T_f03d8_row11_col8\" class=\"data row11 col8\" >0.17</td>\n",
              "      <td id=\"T_f03d8_row11_col9\" class=\"data row11 col9\" >-0.07</td>\n",
              "      <td id=\"T_f03d8_row11_col10\" class=\"data row11 col10\" >-0.03</td>\n",
              "      <td id=\"T_f03d8_row11_col11\" class=\"data row11 col11\" >1.00</td>\n",
              "      <td id=\"T_f03d8_row11_col12\" class=\"data row11 col12\" >0.16</td>\n",
              "      <td id=\"T_f03d8_row11_col13\" class=\"data row11 col13\" >-0.05</td>\n",
              "      <td id=\"T_f03d8_row11_col14\" class=\"data row11 col14\" >0.01</td>\n",
              "      <td id=\"T_f03d8_row11_col15\" class=\"data row11 col15\" >0.09</td>\n",
              "    </tr>\n",
              "    <tr>\n",
              "      <th id=\"T_f03d8_level0_row12\" class=\"row_heading level0 row12\" >Medu</th>\n",
              "      <td id=\"T_f03d8_row12_col0\" class=\"data row12 col0\" >0.10</td>\n",
              "      <td id=\"T_f03d8_row12_col1\" class=\"data row12 col1\" >0.21</td>\n",
              "      <td id=\"T_f03d8_row12_col2\" class=\"data row12 col2\" >-0.24</td>\n",
              "      <td id=\"T_f03d8_row12_col3\" class=\"data row12 col3\" >0.12</td>\n",
              "      <td id=\"T_f03d8_row12_col4\" class=\"data row12 col4\" >-0.05</td>\n",
              "      <td id=\"T_f03d8_row12_col5\" class=\"data row12 col5\" >-0.04</td>\n",
              "      <td id=\"T_f03d8_row12_col6\" class=\"data row12 col6\" >0.10</td>\n",
              "      <td id=\"T_f03d8_row12_col7\" class=\"data row12 col7\" >-0.03</td>\n",
              "      <td id=\"T_f03d8_row12_col8\" class=\"data row12 col8\" >0.06</td>\n",
              "      <td id=\"T_f03d8_row12_col9\" class=\"data row12 col9\" >-0.17</td>\n",
              "      <td id=\"T_f03d8_row12_col10\" class=\"data row12 col10\" >0.07</td>\n",
              "      <td id=\"T_f03d8_row12_col11\" class=\"data row12 col11\" >0.16</td>\n",
              "      <td id=\"T_f03d8_row12_col12\" class=\"data row12 col12\" >1.00</td>\n",
              "      <td id=\"T_f03d8_row12_col13\" class=\"data row12 col13\" >-0.13</td>\n",
              "      <td id=\"T_f03d8_row12_col14\" class=\"data row12 col14\" >0.06</td>\n",
              "      <td id=\"T_f03d8_row12_col15\" class=\"data row12 col15\" >0.62</td>\n",
              "    </tr>\n",
              "    <tr>\n",
              "      <th id=\"T_f03d8_level0_row13\" class=\"row_heading level0 row13\" >guardian</th>\n",
              "      <td id=\"T_f03d8_row13_col0\" class=\"data row13 col0\" >0.04</td>\n",
              "      <td id=\"T_f03d8_row13_col1\" class=\"data row13 col1\" >-0.00</td>\n",
              "      <td id=\"T_f03d8_row13_col2\" class=\"data row13 col2\" >0.22</td>\n",
              "      <td id=\"T_f03d8_row13_col3\" class=\"data row13 col3\" >-0.05</td>\n",
              "      <td id=\"T_f03d8_row13_col4\" class=\"data row13 col4\" >-0.02</td>\n",
              "      <td id=\"T_f03d8_row13_col5\" class=\"data row13 col5\" >-0.02</td>\n",
              "      <td id=\"T_f03d8_row13_col6\" class=\"data row13 col6\" >0.03</td>\n",
              "      <td id=\"T_f03d8_row13_col7\" class=\"data row13 col7\" >-0.10</td>\n",
              "      <td id=\"T_f03d8_row13_col8\" class=\"data row13 col8\" >0.03</td>\n",
              "      <td id=\"T_f03d8_row13_col9\" class=\"data row13 col9\" >0.06</td>\n",
              "      <td id=\"T_f03d8_row13_col10\" class=\"data row13 col10\" >0.06</td>\n",
              "      <td id=\"T_f03d8_row13_col11\" class=\"data row13 col11\" >-0.05</td>\n",
              "      <td id=\"T_f03d8_row13_col12\" class=\"data row13 col12\" >-0.13</td>\n",
              "      <td id=\"T_f03d8_row13_col13\" class=\"data row13 col13\" >1.00</td>\n",
              "      <td id=\"T_f03d8_row13_col14\" class=\"data row13 col14\" >-0.06</td>\n",
              "      <td id=\"T_f03d8_row13_col15\" class=\"data row13 col15\" >-0.00</td>\n",
              "    </tr>\n",
              "    <tr>\n",
              "      <th id=\"T_f03d8_level0_row14\" class=\"row_heading level0 row14\" >goout</th>\n",
              "      <td id=\"T_f03d8_row14_col0\" class=\"data row14 col0\" >0.04</td>\n",
              "      <td id=\"T_f03d8_row14_col1\" class=\"data row14 col1\" >-0.15</td>\n",
              "      <td id=\"T_f03d8_row14_col2\" class=\"data row14 col2\" >0.12</td>\n",
              "      <td id=\"T_f03d8_row14_col3\" class=\"data row14 col3\" >-0.18</td>\n",
              "      <td id=\"T_f03d8_row14_col4\" class=\"data row14 col4\" >0.42</td>\n",
              "      <td id=\"T_f03d8_row14_col5\" class=\"data row14 col5\" >-0.04</td>\n",
              "      <td id=\"T_f03d8_row14_col6\" class=\"data row14 col6\" >-0.05</td>\n",
              "      <td id=\"T_f03d8_row14_col7\" class=\"data row14 col7\" >0.05</td>\n",
              "      <td id=\"T_f03d8_row14_col8\" class=\"data row14 col8\" >-0.06</td>\n",
              "      <td id=\"T_f03d8_row14_col9\" class=\"data row14 col9\" >0.03</td>\n",
              "      <td id=\"T_f03d8_row14_col10\" class=\"data row14 col10\" >0.02</td>\n",
              "      <td id=\"T_f03d8_row14_col11\" class=\"data row14 col11\" >0.01</td>\n",
              "      <td id=\"T_f03d8_row14_col12\" class=\"data row14 col12\" >0.06</td>\n",
              "      <td id=\"T_f03d8_row14_col13\" class=\"data row14 col13\" >-0.06</td>\n",
              "      <td id=\"T_f03d8_row14_col14\" class=\"data row14 col14\" >1.00</td>\n",
              "      <td id=\"T_f03d8_row14_col15\" class=\"data row14 col15\" >0.04</td>\n",
              "    </tr>\n",
              "    <tr>\n",
              "      <th id=\"T_f03d8_level0_row15\" class=\"row_heading level0 row15\" >Fedu</th>\n",
              "      <td id=\"T_f03d8_row15_col0\" class=\"data row15 col0\" >0.02</td>\n",
              "      <td id=\"T_f03d8_row15_col1\" class=\"data row15 col1\" >0.19</td>\n",
              "      <td id=\"T_f03d8_row15_col2\" class=\"data row15 col2\" >-0.25</td>\n",
              "      <td id=\"T_f03d8_row15_col3\" class=\"data row15 col3\" >0.11</td>\n",
              "      <td id=\"T_f03d8_row15_col4\" class=\"data row15 col4\" >-0.01</td>\n",
              "      <td id=\"T_f03d8_row15_col5\" class=\"data row15 col5\" >0.04</td>\n",
              "      <td id=\"T_f03d8_row15_col6\" class=\"data row15 col6\" >0.03</td>\n",
              "      <td id=\"T_f03d8_row15_col7\" class=\"data row15 col7\" >-0.14</td>\n",
              "      <td id=\"T_f03d8_row15_col8\" class=\"data row15 col8\" >-0.01</td>\n",
              "      <td id=\"T_f03d8_row15_col9\" class=\"data row15 col9\" >-0.16</td>\n",
              "      <td id=\"T_f03d8_row15_col10\" class=\"data row15 col10\" >-0.04</td>\n",
              "      <td id=\"T_f03d8_row15_col11\" class=\"data row15 col11\" >0.09</td>\n",
              "      <td id=\"T_f03d8_row15_col12\" class=\"data row15 col12\" >0.62</td>\n",
              "      <td id=\"T_f03d8_row15_col13\" class=\"data row15 col13\" >-0.00</td>\n",
              "      <td id=\"T_f03d8_row15_col14\" class=\"data row15 col14\" >0.04</td>\n",
              "      <td id=\"T_f03d8_row15_col15\" class=\"data row15 col15\" >1.00</td>\n",
              "    </tr>\n",
              "  </tbody>\n",
              "</table>\n"
            ]
          },
          "metadata": {},
          "execution_count": 4
        }
      ],
      "source": [
        "# correlation matrix  \n",
        "corr = df.corr()\n",
        "corr.style.background_gradient(cmap='coolwarm').set_precision(2)"
      ]
    },
    {
      "cell_type": "code",
      "execution_count": 5,
      "id": "ce2ea3ba",
      "metadata": {
        "id": "ce2ea3ba"
      },
      "outputs": [],
      "source": [
        "X = X.drop(['Medu','Walc','Fjob'],axis=1)"
      ]
    },
    {
      "cell_type": "code",
      "execution_count": null,
      "id": "8a8d0cec",
      "metadata": {
        "colab": {
          "base_uri": "https://localhost:8080/",
          "height": 424
        },
        "id": "8a8d0cec",
        "outputId": "44c52d7d-ef9d-4523-a028-f53afa2e6765"
      },
      "outputs": [
        {
          "output_type": "execute_result",
          "data": {
            "text/plain": [
              "     absences  G1  failures  schoolsup  reason  studytime  traveltime  Mjob  \\\n",
              "0           6   5         0          1       0          2           2     0   \n",
              "1           4   5         0          0       0          2           1     0   \n",
              "2          10   7         3          1       3          2           1     0   \n",
              "3           2  15         0          0       1          3           1     3   \n",
              "4           4   6         0          0       1          2           1     4   \n",
              "..        ...  ..       ...        ...     ...        ...         ...   ...   \n",
              "390        11   9         2          0       0          2           1     1   \n",
              "391         3  14         0          0       0          1           2     1   \n",
              "392         3  10         3          0       0          1           1     4   \n",
              "393         0  11         0          0       0          1           3     1   \n",
              "394         5   8         0          0       0          1           1     4   \n",
              "\n",
              "     paid  guardian  goout  Fedu  \n",
              "0       0         0      4     4  \n",
              "1       0         1      3     1  \n",
              "2       1         0      2     1  \n",
              "3       1         0      2     2  \n",
              "4       1         1      2     3  \n",
              "..    ...       ...    ...   ...  \n",
              "390     1         2      4     2  \n",
              "391     0         0      5     1  \n",
              "392     0         2      3     1  \n",
              "393     0         0      1     2  \n",
              "394     0         1      3     1  \n",
              "\n",
              "[395 rows x 12 columns]"
            ],
            "text/html": [
              "\n",
              "  <div id=\"df-d1870994-0aee-4aed-9ae2-c0d024a92182\">\n",
              "    <div class=\"colab-df-container\">\n",
              "      <div>\n",
              "<style scoped>\n",
              "    .dataframe tbody tr th:only-of-type {\n",
              "        vertical-align: middle;\n",
              "    }\n",
              "\n",
              "    .dataframe tbody tr th {\n",
              "        vertical-align: top;\n",
              "    }\n",
              "\n",
              "    .dataframe thead th {\n",
              "        text-align: right;\n",
              "    }\n",
              "</style>\n",
              "<table border=\"1\" class=\"dataframe\">\n",
              "  <thead>\n",
              "    <tr style=\"text-align: right;\">\n",
              "      <th></th>\n",
              "      <th>absences</th>\n",
              "      <th>G1</th>\n",
              "      <th>failures</th>\n",
              "      <th>schoolsup</th>\n",
              "      <th>reason</th>\n",
              "      <th>studytime</th>\n",
              "      <th>traveltime</th>\n",
              "      <th>Mjob</th>\n",
              "      <th>paid</th>\n",
              "      <th>guardian</th>\n",
              "      <th>goout</th>\n",
              "      <th>Fedu</th>\n",
              "    </tr>\n",
              "  </thead>\n",
              "  <tbody>\n",
              "    <tr>\n",
              "      <th>0</th>\n",
              "      <td>6</td>\n",
              "      <td>5</td>\n",
              "      <td>0</td>\n",
              "      <td>1</td>\n",
              "      <td>0</td>\n",
              "      <td>2</td>\n",
              "      <td>2</td>\n",
              "      <td>0</td>\n",
              "      <td>0</td>\n",
              "      <td>0</td>\n",
              "      <td>4</td>\n",
              "      <td>4</td>\n",
              "    </tr>\n",
              "    <tr>\n",
              "      <th>1</th>\n",
              "      <td>4</td>\n",
              "      <td>5</td>\n",
              "      <td>0</td>\n",
              "      <td>0</td>\n",
              "      <td>0</td>\n",
              "      <td>2</td>\n",
              "      <td>1</td>\n",
              "      <td>0</td>\n",
              "      <td>0</td>\n",
              "      <td>1</td>\n",
              "      <td>3</td>\n",
              "      <td>1</td>\n",
              "    </tr>\n",
              "    <tr>\n",
              "      <th>2</th>\n",
              "      <td>10</td>\n",
              "      <td>7</td>\n",
              "      <td>3</td>\n",
              "      <td>1</td>\n",
              "      <td>3</td>\n",
              "      <td>2</td>\n",
              "      <td>1</td>\n",
              "      <td>0</td>\n",
              "      <td>1</td>\n",
              "      <td>0</td>\n",
              "      <td>2</td>\n",
              "      <td>1</td>\n",
              "    </tr>\n",
              "    <tr>\n",
              "      <th>3</th>\n",
              "      <td>2</td>\n",
              "      <td>15</td>\n",
              "      <td>0</td>\n",
              "      <td>0</td>\n",
              "      <td>1</td>\n",
              "      <td>3</td>\n",
              "      <td>1</td>\n",
              "      <td>3</td>\n",
              "      <td>1</td>\n",
              "      <td>0</td>\n",
              "      <td>2</td>\n",
              "      <td>2</td>\n",
              "    </tr>\n",
              "    <tr>\n",
              "      <th>4</th>\n",
              "      <td>4</td>\n",
              "      <td>6</td>\n",
              "      <td>0</td>\n",
              "      <td>0</td>\n",
              "      <td>1</td>\n",
              "      <td>2</td>\n",
              "      <td>1</td>\n",
              "      <td>4</td>\n",
              "      <td>1</td>\n",
              "      <td>1</td>\n",
              "      <td>2</td>\n",
              "      <td>3</td>\n",
              "    </tr>\n",
              "    <tr>\n",
              "      <th>...</th>\n",
              "      <td>...</td>\n",
              "      <td>...</td>\n",
              "      <td>...</td>\n",
              "      <td>...</td>\n",
              "      <td>...</td>\n",
              "      <td>...</td>\n",
              "      <td>...</td>\n",
              "      <td>...</td>\n",
              "      <td>...</td>\n",
              "      <td>...</td>\n",
              "      <td>...</td>\n",
              "      <td>...</td>\n",
              "    </tr>\n",
              "    <tr>\n",
              "      <th>390</th>\n",
              "      <td>11</td>\n",
              "      <td>9</td>\n",
              "      <td>2</td>\n",
              "      <td>0</td>\n",
              "      <td>0</td>\n",
              "      <td>2</td>\n",
              "      <td>1</td>\n",
              "      <td>1</td>\n",
              "      <td>1</td>\n",
              "      <td>2</td>\n",
              "      <td>4</td>\n",
              "      <td>2</td>\n",
              "    </tr>\n",
              "    <tr>\n",
              "      <th>391</th>\n",
              "      <td>3</td>\n",
              "      <td>14</td>\n",
              "      <td>0</td>\n",
              "      <td>0</td>\n",
              "      <td>0</td>\n",
              "      <td>1</td>\n",
              "      <td>2</td>\n",
              "      <td>1</td>\n",
              "      <td>0</td>\n",
              "      <td>0</td>\n",
              "      <td>5</td>\n",
              "      <td>1</td>\n",
              "    </tr>\n",
              "    <tr>\n",
              "      <th>392</th>\n",
              "      <td>3</td>\n",
              "      <td>10</td>\n",
              "      <td>3</td>\n",
              "      <td>0</td>\n",
              "      <td>0</td>\n",
              "      <td>1</td>\n",
              "      <td>1</td>\n",
              "      <td>4</td>\n",
              "      <td>0</td>\n",
              "      <td>2</td>\n",
              "      <td>3</td>\n",
              "      <td>1</td>\n",
              "    </tr>\n",
              "    <tr>\n",
              "      <th>393</th>\n",
              "      <td>0</td>\n",
              "      <td>11</td>\n",
              "      <td>0</td>\n",
              "      <td>0</td>\n",
              "      <td>0</td>\n",
              "      <td>1</td>\n",
              "      <td>3</td>\n",
              "      <td>1</td>\n",
              "      <td>0</td>\n",
              "      <td>0</td>\n",
              "      <td>1</td>\n",
              "      <td>2</td>\n",
              "    </tr>\n",
              "    <tr>\n",
              "      <th>394</th>\n",
              "      <td>5</td>\n",
              "      <td>8</td>\n",
              "      <td>0</td>\n",
              "      <td>0</td>\n",
              "      <td>0</td>\n",
              "      <td>1</td>\n",
              "      <td>1</td>\n",
              "      <td>4</td>\n",
              "      <td>0</td>\n",
              "      <td>1</td>\n",
              "      <td>3</td>\n",
              "      <td>1</td>\n",
              "    </tr>\n",
              "  </tbody>\n",
              "</table>\n",
              "<p>395 rows × 12 columns</p>\n",
              "</div>\n",
              "      <button class=\"colab-df-convert\" onclick=\"convertToInteractive('df-d1870994-0aee-4aed-9ae2-c0d024a92182')\"\n",
              "              title=\"Convert this dataframe to an interactive table.\"\n",
              "              style=\"display:none;\">\n",
              "        \n",
              "  <svg xmlns=\"http://www.w3.org/2000/svg\" height=\"24px\"viewBox=\"0 0 24 24\"\n",
              "       width=\"24px\">\n",
              "    <path d=\"M0 0h24v24H0V0z\" fill=\"none\"/>\n",
              "    <path d=\"M18.56 5.44l.94 2.06.94-2.06 2.06-.94-2.06-.94-.94-2.06-.94 2.06-2.06.94zm-11 1L8.5 8.5l.94-2.06 2.06-.94-2.06-.94L8.5 2.5l-.94 2.06-2.06.94zm10 10l.94 2.06.94-2.06 2.06-.94-2.06-.94-.94-2.06-.94 2.06-2.06.94z\"/><path d=\"M17.41 7.96l-1.37-1.37c-.4-.4-.92-.59-1.43-.59-.52 0-1.04.2-1.43.59L10.3 9.45l-7.72 7.72c-.78.78-.78 2.05 0 2.83L4 21.41c.39.39.9.59 1.41.59.51 0 1.02-.2 1.41-.59l7.78-7.78 2.81-2.81c.8-.78.8-2.07 0-2.86zM5.41 20L4 18.59l7.72-7.72 1.47 1.35L5.41 20z\"/>\n",
              "  </svg>\n",
              "      </button>\n",
              "      \n",
              "  <style>\n",
              "    .colab-df-container {\n",
              "      display:flex;\n",
              "      flex-wrap:wrap;\n",
              "      gap: 12px;\n",
              "    }\n",
              "\n",
              "    .colab-df-convert {\n",
              "      background-color: #E8F0FE;\n",
              "      border: none;\n",
              "      border-radius: 50%;\n",
              "      cursor: pointer;\n",
              "      display: none;\n",
              "      fill: #1967D2;\n",
              "      height: 32px;\n",
              "      padding: 0 0 0 0;\n",
              "      width: 32px;\n",
              "    }\n",
              "\n",
              "    .colab-df-convert:hover {\n",
              "      background-color: #E2EBFA;\n",
              "      box-shadow: 0px 1px 2px rgba(60, 64, 67, 0.3), 0px 1px 3px 1px rgba(60, 64, 67, 0.15);\n",
              "      fill: #174EA6;\n",
              "    }\n",
              "\n",
              "    [theme=dark] .colab-df-convert {\n",
              "      background-color: #3B4455;\n",
              "      fill: #D2E3FC;\n",
              "    }\n",
              "\n",
              "    [theme=dark] .colab-df-convert:hover {\n",
              "      background-color: #434B5C;\n",
              "      box-shadow: 0px 1px 3px 1px rgba(0, 0, 0, 0.15);\n",
              "      filter: drop-shadow(0px 1px 2px rgba(0, 0, 0, 0.3));\n",
              "      fill: #FFFFFF;\n",
              "    }\n",
              "  </style>\n",
              "\n",
              "      <script>\n",
              "        const buttonEl =\n",
              "          document.querySelector('#df-d1870994-0aee-4aed-9ae2-c0d024a92182 button.colab-df-convert');\n",
              "        buttonEl.style.display =\n",
              "          google.colab.kernel.accessAllowed ? 'block' : 'none';\n",
              "\n",
              "        async function convertToInteractive(key) {\n",
              "          const element = document.querySelector('#df-d1870994-0aee-4aed-9ae2-c0d024a92182');\n",
              "          const dataTable =\n",
              "            await google.colab.kernel.invokeFunction('convertToInteractive',\n",
              "                                                     [key], {});\n",
              "          if (!dataTable) return;\n",
              "\n",
              "          const docLinkHtml = 'Like what you see? Visit the ' +\n",
              "            '<a target=\"_blank\" href=https://colab.research.google.com/notebooks/data_table.ipynb>data table notebook</a>'\n",
              "            + ' to learn more about interactive tables.';\n",
              "          element.innerHTML = '';\n",
              "          dataTable['output_type'] = 'display_data';\n",
              "          await google.colab.output.renderOutput(dataTable, element);\n",
              "          const docLink = document.createElement('div');\n",
              "          docLink.innerHTML = docLinkHtml;\n",
              "          element.appendChild(docLink);\n",
              "        }\n",
              "      </script>\n",
              "    </div>\n",
              "  </div>\n",
              "  "
            ]
          },
          "metadata": {},
          "execution_count": 9
        }
      ],
      "source": [
        "X"
      ]
    },
    {
      "cell_type": "markdown",
      "id": "b198e055",
      "metadata": {
        "id": "b198e055"
      },
      "source": [
        "# Models Training"
      ]
    },
    {
      "cell_type": "code",
      "execution_count": 6,
      "id": "275e035a",
      "metadata": {
        "id": "275e035a"
      },
      "outputs": [],
      "source": [
        "X_train, X_test, y_train, y_test = train_test_split(X, y, test_size= 0.2, random_state=0)"
      ]
    },
    {
      "cell_type": "markdown",
      "id": "b073190b",
      "metadata": {
        "id": "b073190b"
      },
      "source": [
        "### Logistic Regression"
      ]
    },
    {
      "cell_type": "code",
      "execution_count": 7,
      "id": "e7ae4dbc",
      "metadata": {
        "colab": {
          "base_uri": "https://localhost:8080/"
        },
        "id": "e7ae4dbc",
        "outputId": "d6e01e8b-b1f1-4de3-d5af-05475e4158d0"
      },
      "outputs": [
        {
          "output_type": "stream",
          "name": "stdout",
          "text": [
            "Accuracy = 0.87\n"
          ]
        },
        {
          "output_type": "execute_result",
          "data": {
            "text/plain": [
              "0.8332051282051282"
            ]
          },
          "metadata": {},
          "execution_count": 7
        }
      ],
      "source": [
        "logreg= LogisticRegression(C= 0.1, solver= 'newton-cg')\n",
        "logreg.fit(X_train, y_train)\n",
        "Y_pred_logreg= logreg.predict(X_test)\n",
        "score_logreg = logreg.score(X_test, y_test)\n",
        "print(\"Accuracy = {:.2f}\".format(score_logreg))\n",
        "cross_val_score(logreg, X, y, cv=10, scoring='accuracy').mean()"
      ]
    },
    {
      "cell_type": "code",
      "execution_count": 8,
      "id": "55fb31bc",
      "metadata": {
        "colab": {
          "base_uri": "https://localhost:8080/"
        },
        "id": "55fb31bc",
        "outputId": "03b13d26-1435-4942-bad0-8e8c470654fd"
      },
      "outputs": [
        {
          "output_type": "execute_result",
          "data": {
            "text/plain": [
              "['Models/logistic_reg.pkl']"
            ]
          },
          "metadata": {},
          "execution_count": 8
        }
      ],
      "source": [
        "# saving the model \n",
        "file = \"Models/logistic_reg.pkl\"\n",
        "joblib.dump(logreg, file)"
      ]
    },
    {
      "cell_type": "markdown",
      "id": "ea94ff87",
      "metadata": {
        "id": "ea94ff87"
      },
      "source": [
        "### Random Forest Algorithm"
      ]
    },
    {
      "cell_type": "code",
      "execution_count": 9,
      "id": "01a2ea9a",
      "metadata": {
        "colab": {
          "base_uri": "https://localhost:8080/"
        },
        "id": "01a2ea9a",
        "outputId": "63355507-b8a4-441f-cf77-c6a7d49bce4f"
      },
      "outputs": [
        {
          "output_type": "stream",
          "name": "stdout",
          "text": [
            "Accuracy = 0.85\n"
          ]
        },
        {
          "output_type": "execute_result",
          "data": {
            "text/plain": [
              "0.8358333333333334"
            ]
          },
          "metadata": {},
          "execution_count": 9
        }
      ],
      "source": [
        "forest = RandomForestClassifier(n_estimators=10)\n",
        "forest.fit(X_train,y_train)\n",
        "y_pred_forest = forest.predict(X_test)\n",
        "score_forest = forest.score(X_test, y_test)\n",
        "print(\"Accuracy = {:.2f}\".format(score_forest))\n",
        "cross_val_score(forest, X, y, cv=10, scoring='accuracy').mean()"
      ]
    },
    {
      "cell_type": "code",
      "execution_count": 10,
      "id": "c92a1372",
      "metadata": {
        "colab": {
          "base_uri": "https://localhost:8080/"
        },
        "id": "c92a1372",
        "outputId": "230a7ba1-36c8-4070-80bd-77847fb257b0"
      },
      "outputs": [
        {
          "output_type": "execute_result",
          "data": {
            "text/plain": [
              "['Models/random_forest.pkl']"
            ]
          },
          "metadata": {},
          "execution_count": 10
        }
      ],
      "source": [
        "# saving the model \n",
        "file = \"Models/random_forest.pkl\"\n",
        "joblib.dump(forest, file)"
      ]
    },
    {
      "cell_type": "markdown",
      "id": "11eb9c00",
      "metadata": {
        "id": "11eb9c00"
      },
      "source": [
        "### K Nearest Neighbours Algorithm (KNN)"
      ]
    },
    {
      "cell_type": "code",
      "execution_count": 11,
      "id": "fa052486",
      "metadata": {
        "colab": {
          "base_uri": "https://localhost:8080/"
        },
        "id": "fa052486",
        "outputId": "461a0c98-cfb0-4b25-a396-e0e0f0f25f44"
      },
      "outputs": [
        {
          "output_type": "stream",
          "name": "stdout",
          "text": [
            "Accuracy = 0.85\n"
          ]
        },
        {
          "output_type": "execute_result",
          "data": {
            "text/plain": [
              "0.8360526315789475"
            ]
          },
          "metadata": {},
          "execution_count": 11
        }
      ],
      "source": [
        "knn = KNeighborsClassifier(n_neighbors=20, weights='distance')\n",
        "knn.fit(X_train, y_train)\n",
        "Y_pred_knn = knn.predict(X_test)\n",
        "score_knn = knn.score(X_test, y_test)\n",
        "print(\"Accuracy = {:.2f}\".format(score_knn))\n",
        "cross_val_score(knn, X, y, cv=20, scoring='accuracy').mean()"
      ]
    },
    {
      "cell_type": "code",
      "execution_count": 12,
      "id": "d72f5328",
      "metadata": {
        "colab": {
          "base_uri": "https://localhost:8080/"
        },
        "id": "d72f5328",
        "outputId": "b303adf7-70b4-44eb-f57d-4421238518d3"
      },
      "outputs": [
        {
          "output_type": "execute_result",
          "data": {
            "text/plain": [
              "['Models/knn.pkl']"
            ]
          },
          "metadata": {},
          "execution_count": 12
        }
      ],
      "source": [
        "file = \"Models/knn.pkl\"\n",
        "joblib.dump(knn, file)"
      ]
    },
    {
      "cell_type": "markdown",
      "id": "25bd3ea3",
      "metadata": {
        "id": "25bd3ea3"
      },
      "source": [
        "### Gradient Boosting Classifier"
      ]
    },
    {
      "cell_type": "code",
      "execution_count": 13,
      "id": "f669c163",
      "metadata": {
        "colab": {
          "base_uri": "https://localhost:8080/"
        },
        "id": "f669c163",
        "outputId": "4c402724-eb6a-45f0-b4a6-07c9c558313e"
      },
      "outputs": [
        {
          "output_type": "stream",
          "name": "stdout",
          "text": [
            "Accuracy = 0.81\n"
          ]
        },
        {
          "output_type": "execute_result",
          "data": {
            "text/plain": [
              "0.8357051282051282"
            ]
          },
          "metadata": {},
          "execution_count": 13
        }
      ],
      "source": [
        "gradient = GradientBoostingClassifier(learning_rate = 0.01, max_depth = 3)\n",
        "gradient.fit(X_train, y_train)\n",
        "Y_pred_gradient = gradient.predict(X_test)\n",
        "score_gradient =gradient.score(X_test, y_test)\n",
        "print(\"Accuracy = {:.2f}\".format(score_gradient))\n",
        "cross_val_score(gradient, X, y, cv=10, scoring='accuracy').mean()"
      ]
    },
    {
      "cell_type": "code",
      "execution_count": 14,
      "id": "e2aea96d",
      "metadata": {
        "colab": {
          "base_uri": "https://localhost:8080/"
        },
        "id": "e2aea96d",
        "outputId": "a69811f8-d9a1-45e3-d2df-554268045a8d"
      },
      "outputs": [
        {
          "output_type": "execute_result",
          "data": {
            "text/plain": [
              "['Models/gradient_boosting.pkl']"
            ]
          },
          "metadata": {},
          "execution_count": 14
        }
      ],
      "source": [
        "file = \"Models/gradient_boosting.pkl\"\n",
        "joblib.dump(gradient, file)"
      ]
    },
    {
      "cell_type": "markdown",
      "id": "4340b594",
      "metadata": {
        "id": "4340b594"
      },
      "source": [
        "### Decision Tree"
      ]
    },
    {
      "cell_type": "code",
      "execution_count": 15,
      "id": "3291fb5c",
      "metadata": {
        "colab": {
          "base_uri": "https://localhost:8080/"
        },
        "id": "3291fb5c",
        "outputId": "dcaadde7-49d6-44c0-dadc-64d71fc0e202"
      },
      "outputs": [
        {
          "output_type": "stream",
          "name": "stdout",
          "text": [
            "Accuracy = 0.81\n"
          ]
        },
        {
          "output_type": "execute_result",
          "data": {
            "text/plain": [
              "0.813076923076923"
            ]
          },
          "metadata": {},
          "execution_count": 15
        }
      ],
      "source": [
        "decision = DecisionTreeClassifier()\n",
        "decision.fit(X_train, y_train)\n",
        "y_pred_decision = decision.predict(X_test)\n",
        "score_decision = decision.score(X_test, y_test)\n",
        "print(\"Accuracy = {:.2f}\".format(score_decision))\n",
        "cross_val_score(decision, X, y, cv=10, scoring='accuracy').mean()"
      ]
    },
    {
      "cell_type": "code",
      "execution_count": 16,
      "id": "dbcf66b3",
      "metadata": {
        "colab": {
          "base_uri": "https://localhost:8080/"
        },
        "id": "dbcf66b3",
        "outputId": "9587309a-8ab2-4b57-972e-69cb1371d5c5"
      },
      "outputs": [
        {
          "output_type": "execute_result",
          "data": {
            "text/plain": [
              "['Models/decision_tree.pkl']"
            ]
          },
          "metadata": {},
          "execution_count": 16
        }
      ],
      "source": [
        "file = \"Models/decision_tree.pkl\"\n",
        "joblib.dump(decision, file)\n"
      ]
    },
    {
      "cell_type": "markdown",
      "id": "26067e68",
      "metadata": {
        "id": "26067e68"
      },
      "source": [
        "### Naive Bayes"
      ]
    },
    {
      "cell_type": "code",
      "execution_count": 17,
      "id": "dbc3e832",
      "metadata": {
        "colab": {
          "base_uri": "https://localhost:8080/"
        },
        "id": "dbc3e832",
        "outputId": "8934b760-15a4-4625-beef-6a30fc289e38"
      },
      "outputs": [
        {
          "output_type": "stream",
          "name": "stdout",
          "text": [
            "Accuracy = 0.78\n"
          ]
        },
        {
          "output_type": "execute_result",
          "data": {
            "text/plain": [
              "0.8154487179487179"
            ]
          },
          "metadata": {},
          "execution_count": 17
        }
      ],
      "source": [
        "nb = GaussianNB()\n",
        "nb.fit(X_train, y_train)\n",
        "y_pred_nb = nb.predict(X_test)\n",
        "score_nb = nb.score(X_test, y_test)\n",
        "print(\"Accuracy = {:.2f}\".format(score_nb))\n",
        "cross_val_score(nb, X, y, cv=10, scoring='accuracy').mean()"
      ]
    },
    {
      "cell_type": "code",
      "execution_count": 18,
      "id": "67c96fba",
      "metadata": {
        "colab": {
          "base_uri": "https://localhost:8080/"
        },
        "id": "67c96fba",
        "outputId": "7d708585-819a-4c0d-f809-d0f00928f53c"
      },
      "outputs": [
        {
          "output_type": "execute_result",
          "data": {
            "text/plain": [
              "['Models/naive_bayes.pkl']"
            ]
          },
          "metadata": {},
          "execution_count": 18
        }
      ],
      "source": [
        "file = \"Models/naive_bayes.pkl\"\n",
        "joblib.dump(nb, file)\n"
      ]
    },
    {
      "cell_type": "markdown",
      "id": "0f6718b1",
      "metadata": {
        "id": "0f6718b1"
      },
      "source": [
        "### Support Vector Machine"
      ]
    },
    {
      "cell_type": "code",
      "execution_count": 19,
      "id": "5210dfa0",
      "metadata": {
        "colab": {
          "base_uri": "https://localhost:8080/"
        },
        "id": "5210dfa0",
        "outputId": "2e99dba3-1f4a-4756-9257-f6b508b9013b"
      },
      "outputs": [
        {
          "output_type": "stream",
          "name": "stdout",
          "text": [
            "Accuracy = 0.89\n"
          ]
        },
        {
          "output_type": "execute_result",
          "data": {
            "text/plain": [
              "0.8308333333333333"
            ]
          },
          "metadata": {},
          "execution_count": 19
        }
      ],
      "source": [
        "sv = SVC(C= 100, gamma = 0.0001, kernel = 'rbf')\n",
        "sv.fit(X_train, y_train)\n",
        "y_pred_svm = sv.predict(X_test)\n",
        "score_sv = sv.score(X_test, y_test)\n",
        "print(\"Accuracy = {:.2f}\".format(score_sv))\n",
        "cross_val_score(sv, X, y, cv=10, scoring='accuracy').mean()"
      ]
    },
    {
      "cell_type": "code",
      "execution_count": 20,
      "id": "05fab02f",
      "metadata": {
        "colab": {
          "base_uri": "https://localhost:8080/"
        },
        "id": "05fab02f",
        "outputId": "87473e27-434a-441d-c1da-d6506cb21f6d"
      },
      "outputs": [
        {
          "output_type": "execute_result",
          "data": {
            "text/plain": [
              "['Models/svm.pkl']"
            ]
          },
          "metadata": {},
          "execution_count": 20
        }
      ],
      "source": [
        "file = \"Models/svm.pkl\"\n",
        "joblib.dump(sv, file)\n"
      ]
    },
    {
      "cell_type": "markdown",
      "id": "8f96da1e",
      "metadata": {
        "id": "8f96da1e"
      },
      "source": [
        "# Models Evaluation"
      ]
    },
    {
      "cell_type": "code",
      "execution_count": 21,
      "id": "712a1ebb",
      "metadata": {
        "colab": {
          "base_uri": "https://localhost:8080/",
          "height": 269
        },
        "id": "712a1ebb",
        "outputId": "84e36984-be5e-41e8-a486-7dab526d5013"
      },
      "outputs": [
        {
          "output_type": "execute_result",
          "data": {
            "text/plain": [
              "                     Model     Score\n",
              "4  Support Vector Machines  0.886076\n",
              "0      Logistic Regression  0.873418\n",
              "3            Random Forest  0.848101\n",
              "6    K - Nearest Neighbors  0.848101\n",
              "2            Decision Tree  0.810127\n",
              "5        Gradient Boosting  0.810127\n",
              "1              Naive Bayes  0.784810"
            ],
            "text/html": [
              "\n",
              "  <div id=\"df-f74b44ce-8526-4488-a3aa-738322f2329b\">\n",
              "    <div class=\"colab-df-container\">\n",
              "      <div>\n",
              "<style scoped>\n",
              "    .dataframe tbody tr th:only-of-type {\n",
              "        vertical-align: middle;\n",
              "    }\n",
              "\n",
              "    .dataframe tbody tr th {\n",
              "        vertical-align: top;\n",
              "    }\n",
              "\n",
              "    .dataframe thead th {\n",
              "        text-align: right;\n",
              "    }\n",
              "</style>\n",
              "<table border=\"1\" class=\"dataframe\">\n",
              "  <thead>\n",
              "    <tr style=\"text-align: right;\">\n",
              "      <th></th>\n",
              "      <th>Model</th>\n",
              "      <th>Score</th>\n",
              "    </tr>\n",
              "  </thead>\n",
              "  <tbody>\n",
              "    <tr>\n",
              "      <th>4</th>\n",
              "      <td>Support Vector Machines</td>\n",
              "      <td>0.886076</td>\n",
              "    </tr>\n",
              "    <tr>\n",
              "      <th>0</th>\n",
              "      <td>Logistic Regression</td>\n",
              "      <td>0.873418</td>\n",
              "    </tr>\n",
              "    <tr>\n",
              "      <th>3</th>\n",
              "      <td>Random Forest</td>\n",
              "      <td>0.848101</td>\n",
              "    </tr>\n",
              "    <tr>\n",
              "      <th>6</th>\n",
              "      <td>K - Nearest Neighbors</td>\n",
              "      <td>0.848101</td>\n",
              "    </tr>\n",
              "    <tr>\n",
              "      <th>2</th>\n",
              "      <td>Decision Tree</td>\n",
              "      <td>0.810127</td>\n",
              "    </tr>\n",
              "    <tr>\n",
              "      <th>5</th>\n",
              "      <td>Gradient Boosting</td>\n",
              "      <td>0.810127</td>\n",
              "    </tr>\n",
              "    <tr>\n",
              "      <th>1</th>\n",
              "      <td>Naive Bayes</td>\n",
              "      <td>0.784810</td>\n",
              "    </tr>\n",
              "  </tbody>\n",
              "</table>\n",
              "</div>\n",
              "      <button class=\"colab-df-convert\" onclick=\"convertToInteractive('df-f74b44ce-8526-4488-a3aa-738322f2329b')\"\n",
              "              title=\"Convert this dataframe to an interactive table.\"\n",
              "              style=\"display:none;\">\n",
              "        \n",
              "  <svg xmlns=\"http://www.w3.org/2000/svg\" height=\"24px\"viewBox=\"0 0 24 24\"\n",
              "       width=\"24px\">\n",
              "    <path d=\"M0 0h24v24H0V0z\" fill=\"none\"/>\n",
              "    <path d=\"M18.56 5.44l.94 2.06.94-2.06 2.06-.94-2.06-.94-.94-2.06-.94 2.06-2.06.94zm-11 1L8.5 8.5l.94-2.06 2.06-.94-2.06-.94L8.5 2.5l-.94 2.06-2.06.94zm10 10l.94 2.06.94-2.06 2.06-.94-2.06-.94-.94-2.06-.94 2.06-2.06.94z\"/><path d=\"M17.41 7.96l-1.37-1.37c-.4-.4-.92-.59-1.43-.59-.52 0-1.04.2-1.43.59L10.3 9.45l-7.72 7.72c-.78.78-.78 2.05 0 2.83L4 21.41c.39.39.9.59 1.41.59.51 0 1.02-.2 1.41-.59l7.78-7.78 2.81-2.81c.8-.78.8-2.07 0-2.86zM5.41 20L4 18.59l7.72-7.72 1.47 1.35L5.41 20z\"/>\n",
              "  </svg>\n",
              "      </button>\n",
              "      \n",
              "  <style>\n",
              "    .colab-df-container {\n",
              "      display:flex;\n",
              "      flex-wrap:wrap;\n",
              "      gap: 12px;\n",
              "    }\n",
              "\n",
              "    .colab-df-convert {\n",
              "      background-color: #E8F0FE;\n",
              "      border: none;\n",
              "      border-radius: 50%;\n",
              "      cursor: pointer;\n",
              "      display: none;\n",
              "      fill: #1967D2;\n",
              "      height: 32px;\n",
              "      padding: 0 0 0 0;\n",
              "      width: 32px;\n",
              "    }\n",
              "\n",
              "    .colab-df-convert:hover {\n",
              "      background-color: #E2EBFA;\n",
              "      box-shadow: 0px 1px 2px rgba(60, 64, 67, 0.3), 0px 1px 3px 1px rgba(60, 64, 67, 0.15);\n",
              "      fill: #174EA6;\n",
              "    }\n",
              "\n",
              "    [theme=dark] .colab-df-convert {\n",
              "      background-color: #3B4455;\n",
              "      fill: #D2E3FC;\n",
              "    }\n",
              "\n",
              "    [theme=dark] .colab-df-convert:hover {\n",
              "      background-color: #434B5C;\n",
              "      box-shadow: 0px 1px 3px 1px rgba(0, 0, 0, 0.15);\n",
              "      filter: drop-shadow(0px 1px 2px rgba(0, 0, 0, 0.3));\n",
              "      fill: #FFFFFF;\n",
              "    }\n",
              "  </style>\n",
              "\n",
              "      <script>\n",
              "        const buttonEl =\n",
              "          document.querySelector('#df-f74b44ce-8526-4488-a3aa-738322f2329b button.colab-df-convert');\n",
              "        buttonEl.style.display =\n",
              "          google.colab.kernel.accessAllowed ? 'block' : 'none';\n",
              "\n",
              "        async function convertToInteractive(key) {\n",
              "          const element = document.querySelector('#df-f74b44ce-8526-4488-a3aa-738322f2329b');\n",
              "          const dataTable =\n",
              "            await google.colab.kernel.invokeFunction('convertToInteractive',\n",
              "                                                     [key], {});\n",
              "          if (!dataTable) return;\n",
              "\n",
              "          const docLinkHtml = 'Like what you see? Visit the ' +\n",
              "            '<a target=\"_blank\" href=https://colab.research.google.com/notebooks/data_table.ipynb>data table notebook</a>'\n",
              "            + ' to learn more about interactive tables.';\n",
              "          element.innerHTML = '';\n",
              "          dataTable['output_type'] = 'display_data';\n",
              "          await google.colab.output.renderOutput(dataTable, element);\n",
              "          const docLink = document.createElement('div');\n",
              "          docLink.innerHTML = docLinkHtml;\n",
              "          element.appendChild(docLink);\n",
              "        }\n",
              "      </script>\n",
              "    </div>\n",
              "  </div>\n",
              "  "
            ]
          },
          "metadata": {},
          "execution_count": 21
        }
      ],
      "source": [
        "models = pd.DataFrame({\n",
        "    'Model': ['Logistic Regression', 'Naive Bayes', 'Decision Tree', 'Random Forest', 'Support Vector Machines', 'Gradient Boosting',\n",
        "              'K - Nearest Neighbors'],\n",
        "    'Score': [score_logreg, score_nb , score_decision, score_forest, score_sv, score_gradient, score_knn]})\n",
        "models.sort_values(by='Score', ascending=False)"
      ]
    },
    {
      "cell_type": "markdown",
      "id": "d6264693",
      "metadata": {
        "id": "d6264693"
      },
      "source": [
        "# Hyper Parameter Tuning"
      ]
    },
    {
      "cell_type": "markdown",
      "id": "7d1029d3",
      "metadata": {
        "id": "7d1029d3"
      },
      "source": [
        "#### 1 - Logistic Regression"
      ]
    },
    {
      "cell_type": "code",
      "execution_count": 22,
      "id": "4c39722d",
      "metadata": {
        "colab": {
          "base_uri": "https://localhost:8080/",
          "height": 380
        },
        "id": "4c39722d",
        "outputId": "b120e227-8792-4995-bf12-4047e6743551"
      },
      "outputs": [
        {
          "output_type": "stream",
          "name": "stdout",
          "text": [
            "{'solver': ['newton-cg', 'liblinear'], 'C': [100, 10, 1.0, 0.1, 0.01]}\n"
          ]
        },
        {
          "output_type": "execute_result",
          "data": {
            "text/plain": [
              "   mean_test_score  std_test_score                              params\n",
              "0         0.823269        0.067178   {'C': 100, 'solver': 'newton-cg'}\n",
              "1         0.825833        0.068479   {'C': 100, 'solver': 'liblinear'}\n",
              "2         0.820769        0.064695    {'C': 10, 'solver': 'newton-cg'}\n",
              "3         0.818205        0.068750    {'C': 10, 'solver': 'liblinear'}\n",
              "4         0.825769        0.056593   {'C': 1.0, 'solver': 'newton-cg'}\n",
              "5         0.818077        0.069784   {'C': 1.0, 'solver': 'liblinear'}\n",
              "6         0.833205        0.044366   {'C': 0.1, 'solver': 'newton-cg'}\n",
              "7         0.807821        0.054508   {'C': 0.1, 'solver': 'liblinear'}\n",
              "8         0.835705        0.049901  {'C': 0.01, 'solver': 'newton-cg'}\n",
              "9         0.805256        0.060189  {'C': 0.01, 'solver': 'liblinear'}"
            ],
            "text/html": [
              "\n",
              "  <div id=\"df-3b5baf3d-82a6-494f-863f-504cc3d9ddc3\">\n",
              "    <div class=\"colab-df-container\">\n",
              "      <div>\n",
              "<style scoped>\n",
              "    .dataframe tbody tr th:only-of-type {\n",
              "        vertical-align: middle;\n",
              "    }\n",
              "\n",
              "    .dataframe tbody tr th {\n",
              "        vertical-align: top;\n",
              "    }\n",
              "\n",
              "    .dataframe thead th {\n",
              "        text-align: right;\n",
              "    }\n",
              "</style>\n",
              "<table border=\"1\" class=\"dataframe\">\n",
              "  <thead>\n",
              "    <tr style=\"text-align: right;\">\n",
              "      <th></th>\n",
              "      <th>mean_test_score</th>\n",
              "      <th>std_test_score</th>\n",
              "      <th>params</th>\n",
              "    </tr>\n",
              "  </thead>\n",
              "  <tbody>\n",
              "    <tr>\n",
              "      <th>0</th>\n",
              "      <td>0.823269</td>\n",
              "      <td>0.067178</td>\n",
              "      <td>{'C': 100, 'solver': 'newton-cg'}</td>\n",
              "    </tr>\n",
              "    <tr>\n",
              "      <th>1</th>\n",
              "      <td>0.825833</td>\n",
              "      <td>0.068479</td>\n",
              "      <td>{'C': 100, 'solver': 'liblinear'}</td>\n",
              "    </tr>\n",
              "    <tr>\n",
              "      <th>2</th>\n",
              "      <td>0.820769</td>\n",
              "      <td>0.064695</td>\n",
              "      <td>{'C': 10, 'solver': 'newton-cg'}</td>\n",
              "    </tr>\n",
              "    <tr>\n",
              "      <th>3</th>\n",
              "      <td>0.818205</td>\n",
              "      <td>0.068750</td>\n",
              "      <td>{'C': 10, 'solver': 'liblinear'}</td>\n",
              "    </tr>\n",
              "    <tr>\n",
              "      <th>4</th>\n",
              "      <td>0.825769</td>\n",
              "      <td>0.056593</td>\n",
              "      <td>{'C': 1.0, 'solver': 'newton-cg'}</td>\n",
              "    </tr>\n",
              "    <tr>\n",
              "      <th>5</th>\n",
              "      <td>0.818077</td>\n",
              "      <td>0.069784</td>\n",
              "      <td>{'C': 1.0, 'solver': 'liblinear'}</td>\n",
              "    </tr>\n",
              "    <tr>\n",
              "      <th>6</th>\n",
              "      <td>0.833205</td>\n",
              "      <td>0.044366</td>\n",
              "      <td>{'C': 0.1, 'solver': 'newton-cg'}</td>\n",
              "    </tr>\n",
              "    <tr>\n",
              "      <th>7</th>\n",
              "      <td>0.807821</td>\n",
              "      <td>0.054508</td>\n",
              "      <td>{'C': 0.1, 'solver': 'liblinear'}</td>\n",
              "    </tr>\n",
              "    <tr>\n",
              "      <th>8</th>\n",
              "      <td>0.835705</td>\n",
              "      <td>0.049901</td>\n",
              "      <td>{'C': 0.01, 'solver': 'newton-cg'}</td>\n",
              "    </tr>\n",
              "    <tr>\n",
              "      <th>9</th>\n",
              "      <td>0.805256</td>\n",
              "      <td>0.060189</td>\n",
              "      <td>{'C': 0.01, 'solver': 'liblinear'}</td>\n",
              "    </tr>\n",
              "  </tbody>\n",
              "</table>\n",
              "</div>\n",
              "      <button class=\"colab-df-convert\" onclick=\"convertToInteractive('df-3b5baf3d-82a6-494f-863f-504cc3d9ddc3')\"\n",
              "              title=\"Convert this dataframe to an interactive table.\"\n",
              "              style=\"display:none;\">\n",
              "        \n",
              "  <svg xmlns=\"http://www.w3.org/2000/svg\" height=\"24px\"viewBox=\"0 0 24 24\"\n",
              "       width=\"24px\">\n",
              "    <path d=\"M0 0h24v24H0V0z\" fill=\"none\"/>\n",
              "    <path d=\"M18.56 5.44l.94 2.06.94-2.06 2.06-.94-2.06-.94-.94-2.06-.94 2.06-2.06.94zm-11 1L8.5 8.5l.94-2.06 2.06-.94-2.06-.94L8.5 2.5l-.94 2.06-2.06.94zm10 10l.94 2.06.94-2.06 2.06-.94-2.06-.94-.94-2.06-.94 2.06-2.06.94z\"/><path d=\"M17.41 7.96l-1.37-1.37c-.4-.4-.92-.59-1.43-.59-.52 0-1.04.2-1.43.59L10.3 9.45l-7.72 7.72c-.78.78-.78 2.05 0 2.83L4 21.41c.39.39.9.59 1.41.59.51 0 1.02-.2 1.41-.59l7.78-7.78 2.81-2.81c.8-.78.8-2.07 0-2.86zM5.41 20L4 18.59l7.72-7.72 1.47 1.35L5.41 20z\"/>\n",
              "  </svg>\n",
              "      </button>\n",
              "      \n",
              "  <style>\n",
              "    .colab-df-container {\n",
              "      display:flex;\n",
              "      flex-wrap:wrap;\n",
              "      gap: 12px;\n",
              "    }\n",
              "\n",
              "    .colab-df-convert {\n",
              "      background-color: #E8F0FE;\n",
              "      border: none;\n",
              "      border-radius: 50%;\n",
              "      cursor: pointer;\n",
              "      display: none;\n",
              "      fill: #1967D2;\n",
              "      height: 32px;\n",
              "      padding: 0 0 0 0;\n",
              "      width: 32px;\n",
              "    }\n",
              "\n",
              "    .colab-df-convert:hover {\n",
              "      background-color: #E2EBFA;\n",
              "      box-shadow: 0px 1px 2px rgba(60, 64, 67, 0.3), 0px 1px 3px 1px rgba(60, 64, 67, 0.15);\n",
              "      fill: #174EA6;\n",
              "    }\n",
              "\n",
              "    [theme=dark] .colab-df-convert {\n",
              "      background-color: #3B4455;\n",
              "      fill: #D2E3FC;\n",
              "    }\n",
              "\n",
              "    [theme=dark] .colab-df-convert:hover {\n",
              "      background-color: #434B5C;\n",
              "      box-shadow: 0px 1px 3px 1px rgba(0, 0, 0, 0.15);\n",
              "      filter: drop-shadow(0px 1px 2px rgba(0, 0, 0, 0.3));\n",
              "      fill: #FFFFFF;\n",
              "    }\n",
              "  </style>\n",
              "\n",
              "      <script>\n",
              "        const buttonEl =\n",
              "          document.querySelector('#df-3b5baf3d-82a6-494f-863f-504cc3d9ddc3 button.colab-df-convert');\n",
              "        buttonEl.style.display =\n",
              "          google.colab.kernel.accessAllowed ? 'block' : 'none';\n",
              "\n",
              "        async function convertToInteractive(key) {\n",
              "          const element = document.querySelector('#df-3b5baf3d-82a6-494f-863f-504cc3d9ddc3');\n",
              "          const dataTable =\n",
              "            await google.colab.kernel.invokeFunction('convertToInteractive',\n",
              "                                                     [key], {});\n",
              "          if (!dataTable) return;\n",
              "\n",
              "          const docLinkHtml = 'Like what you see? Visit the ' +\n",
              "            '<a target=\"_blank\" href=https://colab.research.google.com/notebooks/data_table.ipynb>data table notebook</a>'\n",
              "            + ' to learn more about interactive tables.';\n",
              "          element.innerHTML = '';\n",
              "          dataTable['output_type'] = 'display_data';\n",
              "          await google.colab.output.renderOutput(dataTable, element);\n",
              "          const docLink = document.createElement('div');\n",
              "          docLink.innerHTML = docLinkHtml;\n",
              "          element.appendChild(docLink);\n",
              "        }\n",
              "      </script>\n",
              "    </div>\n",
              "  </div>\n",
              "  "
            ]
          },
          "metadata": {},
          "execution_count": 22
        }
      ],
      "source": [
        "# we choose values for different parameters of the algorithm\n",
        "solvers = ['newton-cg', 'liblinear']\n",
        "c_values = [100, 10, 1.0, 0.1, 0.01]\n",
        "# we create a grid of these parameters ( combination of different values of these parameters) \n",
        "param_grids = dict(solver=solvers,C=c_values)\n",
        "print(param_grids)\n",
        "#instantiate the grid\n",
        "grids = GridSearchCV(logreg, param_grids, cv=10, scoring='accuracy')\n",
        "grids.fit(X, y)\n",
        "# for each parameter combination, display the score \n",
        "pd.DataFrame(grids.cv_results_)[['mean_test_score', 'std_test_score', 'params']]\n"
      ]
    },
    {
      "cell_type": "markdown",
      "id": "7fcbeb36",
      "metadata": {
        "id": "7fcbeb36"
      },
      "source": [
        "#### 2 - KNN"
      ]
    },
    {
      "cell_type": "code",
      "execution_count": 23,
      "id": "6bbb3034",
      "metadata": {
        "colab": {
          "base_uri": "https://localhost:8080/",
          "height": 1000
        },
        "id": "6bbb3034",
        "outputId": "6b2b2c52-bc0d-40a0-bf5e-015c813ee413"
      },
      "outputs": [
        {
          "output_type": "stream",
          "name": "stdout",
          "text": [
            "{'n_neighbors': [1, 2, 3, 4, 5, 6, 7, 8, 9, 10, 11, 12, 13, 14, 15, 16, 17, 18, 19, 20, 21, 22, 23, 24, 25, 26, 27, 28, 29, 30], 'weights': ['uniform', 'distance']}\n"
          ]
        },
        {
          "output_type": "execute_result",
          "data": {
            "text/plain": [
              "    mean_test_score  std_test_score  \\\n",
              "0          0.800641        0.081624   \n",
              "1          0.800641        0.081624   \n",
              "2          0.795769        0.080703   \n",
              "3          0.803077        0.082250   \n",
              "4          0.825897        0.058864   \n",
              "5          0.825897        0.058864   \n",
              "6          0.825705        0.057111   \n",
              "7          0.828333        0.055826   \n",
              "8          0.838397        0.052128   \n",
              "9          0.835897        0.054457   \n",
              "10         0.825769        0.056879   \n",
              "11         0.838462        0.049258   \n",
              "12         0.823141        0.040951   \n",
              "13         0.820641        0.042999   \n",
              "14         0.823205        0.040392   \n",
              "15         0.830769        0.040946   \n",
              "16         0.825705        0.042985   \n",
              "17         0.830833        0.046504   \n",
              "18         0.830705        0.049337   \n",
              "19         0.823269        0.044720   \n",
              "20         0.815705        0.055891   \n",
              "21         0.820769        0.052953   \n",
              "22         0.838205        0.030989   \n",
              "23         0.830833        0.043435   \n",
              "24         0.825641        0.041431   \n",
              "25         0.825641        0.041431   \n",
              "26         0.833333        0.049261   \n",
              "27         0.833333        0.046585   \n",
              "28         0.838397        0.049344   \n",
              "29         0.838397        0.047993   \n",
              "30         0.838397        0.047993   \n",
              "31         0.835897        0.043893   \n",
              "32         0.833269        0.047016   \n",
              "33         0.830769        0.043745   \n",
              "34         0.833333        0.045296   \n",
              "35         0.830897        0.048776   \n",
              "36         0.833333        0.045296   \n",
              "37         0.833333        0.043820   \n",
              "38         0.848462        0.042357   \n",
              "39         0.835962        0.051657   \n",
              "40         0.835833        0.041125   \n",
              "41         0.833333        0.043820   \n",
              "42         0.833333        0.045152   \n",
              "43         0.830833        0.046294   \n",
              "44         0.830897        0.053778   \n",
              "45         0.828333        0.049785   \n",
              "46         0.828205        0.044860   \n",
              "47         0.828333        0.049785   \n",
              "48         0.823141        0.048047   \n",
              "49         0.823141        0.046588   \n",
              "50         0.828205        0.038806   \n",
              "51         0.823141        0.043749   \n",
              "52         0.823141        0.046658   \n",
              "53         0.830769        0.046724   \n",
              "54         0.833205        0.034531   \n",
              "55         0.825577        0.038806   \n",
              "56         0.823013        0.034591   \n",
              "57         0.830641        0.036464   \n",
              "58         0.833205        0.034625   \n",
              "59         0.830705        0.039486   \n",
              "\n",
              "                                        params  \n",
              "0     {'n_neighbors': 1, 'weights': 'uniform'}  \n",
              "1    {'n_neighbors': 1, 'weights': 'distance'}  \n",
              "2     {'n_neighbors': 2, 'weights': 'uniform'}  \n",
              "3    {'n_neighbors': 2, 'weights': 'distance'}  \n",
              "4     {'n_neighbors': 3, 'weights': 'uniform'}  \n",
              "5    {'n_neighbors': 3, 'weights': 'distance'}  \n",
              "6     {'n_neighbors': 4, 'weights': 'uniform'}  \n",
              "7    {'n_neighbors': 4, 'weights': 'distance'}  \n",
              "8     {'n_neighbors': 5, 'weights': 'uniform'}  \n",
              "9    {'n_neighbors': 5, 'weights': 'distance'}  \n",
              "10    {'n_neighbors': 6, 'weights': 'uniform'}  \n",
              "11   {'n_neighbors': 6, 'weights': 'distance'}  \n",
              "12    {'n_neighbors': 7, 'weights': 'uniform'}  \n",
              "13   {'n_neighbors': 7, 'weights': 'distance'}  \n",
              "14    {'n_neighbors': 8, 'weights': 'uniform'}  \n",
              "15   {'n_neighbors': 8, 'weights': 'distance'}  \n",
              "16    {'n_neighbors': 9, 'weights': 'uniform'}  \n",
              "17   {'n_neighbors': 9, 'weights': 'distance'}  \n",
              "18   {'n_neighbors': 10, 'weights': 'uniform'}  \n",
              "19  {'n_neighbors': 10, 'weights': 'distance'}  \n",
              "20   {'n_neighbors': 11, 'weights': 'uniform'}  \n",
              "21  {'n_neighbors': 11, 'weights': 'distance'}  \n",
              "22   {'n_neighbors': 12, 'weights': 'uniform'}  \n",
              "23  {'n_neighbors': 12, 'weights': 'distance'}  \n",
              "24   {'n_neighbors': 13, 'weights': 'uniform'}  \n",
              "25  {'n_neighbors': 13, 'weights': 'distance'}  \n",
              "26   {'n_neighbors': 14, 'weights': 'uniform'}  \n",
              "27  {'n_neighbors': 14, 'weights': 'distance'}  \n",
              "28   {'n_neighbors': 15, 'weights': 'uniform'}  \n",
              "29  {'n_neighbors': 15, 'weights': 'distance'}  \n",
              "30   {'n_neighbors': 16, 'weights': 'uniform'}  \n",
              "31  {'n_neighbors': 16, 'weights': 'distance'}  \n",
              "32   {'n_neighbors': 17, 'weights': 'uniform'}  \n",
              "33  {'n_neighbors': 17, 'weights': 'distance'}  \n",
              "34   {'n_neighbors': 18, 'weights': 'uniform'}  \n",
              "35  {'n_neighbors': 18, 'weights': 'distance'}  \n",
              "36   {'n_neighbors': 19, 'weights': 'uniform'}  \n",
              "37  {'n_neighbors': 19, 'weights': 'distance'}  \n",
              "38   {'n_neighbors': 20, 'weights': 'uniform'}  \n",
              "39  {'n_neighbors': 20, 'weights': 'distance'}  \n",
              "40   {'n_neighbors': 21, 'weights': 'uniform'}  \n",
              "41  {'n_neighbors': 21, 'weights': 'distance'}  \n",
              "42   {'n_neighbors': 22, 'weights': 'uniform'}  \n",
              "43  {'n_neighbors': 22, 'weights': 'distance'}  \n",
              "44   {'n_neighbors': 23, 'weights': 'uniform'}  \n",
              "45  {'n_neighbors': 23, 'weights': 'distance'}  \n",
              "46   {'n_neighbors': 24, 'weights': 'uniform'}  \n",
              "47  {'n_neighbors': 24, 'weights': 'distance'}  \n",
              "48   {'n_neighbors': 25, 'weights': 'uniform'}  \n",
              "49  {'n_neighbors': 25, 'weights': 'distance'}  \n",
              "50   {'n_neighbors': 26, 'weights': 'uniform'}  \n",
              "51  {'n_neighbors': 26, 'weights': 'distance'}  \n",
              "52   {'n_neighbors': 27, 'weights': 'uniform'}  \n",
              "53  {'n_neighbors': 27, 'weights': 'distance'}  \n",
              "54   {'n_neighbors': 28, 'weights': 'uniform'}  \n",
              "55  {'n_neighbors': 28, 'weights': 'distance'}  \n",
              "56   {'n_neighbors': 29, 'weights': 'uniform'}  \n",
              "57  {'n_neighbors': 29, 'weights': 'distance'}  \n",
              "58   {'n_neighbors': 30, 'weights': 'uniform'}  \n",
              "59  {'n_neighbors': 30, 'weights': 'distance'}  "
            ],
            "text/html": [
              "\n",
              "  <div id=\"df-f73e395a-5f02-495d-b46d-e176e8ff8f57\">\n",
              "    <div class=\"colab-df-container\">\n",
              "      <div>\n",
              "<style scoped>\n",
              "    .dataframe tbody tr th:only-of-type {\n",
              "        vertical-align: middle;\n",
              "    }\n",
              "\n",
              "    .dataframe tbody tr th {\n",
              "        vertical-align: top;\n",
              "    }\n",
              "\n",
              "    .dataframe thead th {\n",
              "        text-align: right;\n",
              "    }\n",
              "</style>\n",
              "<table border=\"1\" class=\"dataframe\">\n",
              "  <thead>\n",
              "    <tr style=\"text-align: right;\">\n",
              "      <th></th>\n",
              "      <th>mean_test_score</th>\n",
              "      <th>std_test_score</th>\n",
              "      <th>params</th>\n",
              "    </tr>\n",
              "  </thead>\n",
              "  <tbody>\n",
              "    <tr>\n",
              "      <th>0</th>\n",
              "      <td>0.800641</td>\n",
              "      <td>0.081624</td>\n",
              "      <td>{'n_neighbors': 1, 'weights': 'uniform'}</td>\n",
              "    </tr>\n",
              "    <tr>\n",
              "      <th>1</th>\n",
              "      <td>0.800641</td>\n",
              "      <td>0.081624</td>\n",
              "      <td>{'n_neighbors': 1, 'weights': 'distance'}</td>\n",
              "    </tr>\n",
              "    <tr>\n",
              "      <th>2</th>\n",
              "      <td>0.795769</td>\n",
              "      <td>0.080703</td>\n",
              "      <td>{'n_neighbors': 2, 'weights': 'uniform'}</td>\n",
              "    </tr>\n",
              "    <tr>\n",
              "      <th>3</th>\n",
              "      <td>0.803077</td>\n",
              "      <td>0.082250</td>\n",
              "      <td>{'n_neighbors': 2, 'weights': 'distance'}</td>\n",
              "    </tr>\n",
              "    <tr>\n",
              "      <th>4</th>\n",
              "      <td>0.825897</td>\n",
              "      <td>0.058864</td>\n",
              "      <td>{'n_neighbors': 3, 'weights': 'uniform'}</td>\n",
              "    </tr>\n",
              "    <tr>\n",
              "      <th>5</th>\n",
              "      <td>0.825897</td>\n",
              "      <td>0.058864</td>\n",
              "      <td>{'n_neighbors': 3, 'weights': 'distance'}</td>\n",
              "    </tr>\n",
              "    <tr>\n",
              "      <th>6</th>\n",
              "      <td>0.825705</td>\n",
              "      <td>0.057111</td>\n",
              "      <td>{'n_neighbors': 4, 'weights': 'uniform'}</td>\n",
              "    </tr>\n",
              "    <tr>\n",
              "      <th>7</th>\n",
              "      <td>0.828333</td>\n",
              "      <td>0.055826</td>\n",
              "      <td>{'n_neighbors': 4, 'weights': 'distance'}</td>\n",
              "    </tr>\n",
              "    <tr>\n",
              "      <th>8</th>\n",
              "      <td>0.838397</td>\n",
              "      <td>0.052128</td>\n",
              "      <td>{'n_neighbors': 5, 'weights': 'uniform'}</td>\n",
              "    </tr>\n",
              "    <tr>\n",
              "      <th>9</th>\n",
              "      <td>0.835897</td>\n",
              "      <td>0.054457</td>\n",
              "      <td>{'n_neighbors': 5, 'weights': 'distance'}</td>\n",
              "    </tr>\n",
              "    <tr>\n",
              "      <th>10</th>\n",
              "      <td>0.825769</td>\n",
              "      <td>0.056879</td>\n",
              "      <td>{'n_neighbors': 6, 'weights': 'uniform'}</td>\n",
              "    </tr>\n",
              "    <tr>\n",
              "      <th>11</th>\n",
              "      <td>0.838462</td>\n",
              "      <td>0.049258</td>\n",
              "      <td>{'n_neighbors': 6, 'weights': 'distance'}</td>\n",
              "    </tr>\n",
              "    <tr>\n",
              "      <th>12</th>\n",
              "      <td>0.823141</td>\n",
              "      <td>0.040951</td>\n",
              "      <td>{'n_neighbors': 7, 'weights': 'uniform'}</td>\n",
              "    </tr>\n",
              "    <tr>\n",
              "      <th>13</th>\n",
              "      <td>0.820641</td>\n",
              "      <td>0.042999</td>\n",
              "      <td>{'n_neighbors': 7, 'weights': 'distance'}</td>\n",
              "    </tr>\n",
              "    <tr>\n",
              "      <th>14</th>\n",
              "      <td>0.823205</td>\n",
              "      <td>0.040392</td>\n",
              "      <td>{'n_neighbors': 8, 'weights': 'uniform'}</td>\n",
              "    </tr>\n",
              "    <tr>\n",
              "      <th>15</th>\n",
              "      <td>0.830769</td>\n",
              "      <td>0.040946</td>\n",
              "      <td>{'n_neighbors': 8, 'weights': 'distance'}</td>\n",
              "    </tr>\n",
              "    <tr>\n",
              "      <th>16</th>\n",
              "      <td>0.825705</td>\n",
              "      <td>0.042985</td>\n",
              "      <td>{'n_neighbors': 9, 'weights': 'uniform'}</td>\n",
              "    </tr>\n",
              "    <tr>\n",
              "      <th>17</th>\n",
              "      <td>0.830833</td>\n",
              "      <td>0.046504</td>\n",
              "      <td>{'n_neighbors': 9, 'weights': 'distance'}</td>\n",
              "    </tr>\n",
              "    <tr>\n",
              "      <th>18</th>\n",
              "      <td>0.830705</td>\n",
              "      <td>0.049337</td>\n",
              "      <td>{'n_neighbors': 10, 'weights': 'uniform'}</td>\n",
              "    </tr>\n",
              "    <tr>\n",
              "      <th>19</th>\n",
              "      <td>0.823269</td>\n",
              "      <td>0.044720</td>\n",
              "      <td>{'n_neighbors': 10, 'weights': 'distance'}</td>\n",
              "    </tr>\n",
              "    <tr>\n",
              "      <th>20</th>\n",
              "      <td>0.815705</td>\n",
              "      <td>0.055891</td>\n",
              "      <td>{'n_neighbors': 11, 'weights': 'uniform'}</td>\n",
              "    </tr>\n",
              "    <tr>\n",
              "      <th>21</th>\n",
              "      <td>0.820769</td>\n",
              "      <td>0.052953</td>\n",
              "      <td>{'n_neighbors': 11, 'weights': 'distance'}</td>\n",
              "    </tr>\n",
              "    <tr>\n",
              "      <th>22</th>\n",
              "      <td>0.838205</td>\n",
              "      <td>0.030989</td>\n",
              "      <td>{'n_neighbors': 12, 'weights': 'uniform'}</td>\n",
              "    </tr>\n",
              "    <tr>\n",
              "      <th>23</th>\n",
              "      <td>0.830833</td>\n",
              "      <td>0.043435</td>\n",
              "      <td>{'n_neighbors': 12, 'weights': 'distance'}</td>\n",
              "    </tr>\n",
              "    <tr>\n",
              "      <th>24</th>\n",
              "      <td>0.825641</td>\n",
              "      <td>0.041431</td>\n",
              "      <td>{'n_neighbors': 13, 'weights': 'uniform'}</td>\n",
              "    </tr>\n",
              "    <tr>\n",
              "      <th>25</th>\n",
              "      <td>0.825641</td>\n",
              "      <td>0.041431</td>\n",
              "      <td>{'n_neighbors': 13, 'weights': 'distance'}</td>\n",
              "    </tr>\n",
              "    <tr>\n",
              "      <th>26</th>\n",
              "      <td>0.833333</td>\n",
              "      <td>0.049261</td>\n",
              "      <td>{'n_neighbors': 14, 'weights': 'uniform'}</td>\n",
              "    </tr>\n",
              "    <tr>\n",
              "      <th>27</th>\n",
              "      <td>0.833333</td>\n",
              "      <td>0.046585</td>\n",
              "      <td>{'n_neighbors': 14, 'weights': 'distance'}</td>\n",
              "    </tr>\n",
              "    <tr>\n",
              "      <th>28</th>\n",
              "      <td>0.838397</td>\n",
              "      <td>0.049344</td>\n",
              "      <td>{'n_neighbors': 15, 'weights': 'uniform'}</td>\n",
              "    </tr>\n",
              "    <tr>\n",
              "      <th>29</th>\n",
              "      <td>0.838397</td>\n",
              "      <td>0.047993</td>\n",
              "      <td>{'n_neighbors': 15, 'weights': 'distance'}</td>\n",
              "    </tr>\n",
              "    <tr>\n",
              "      <th>30</th>\n",
              "      <td>0.838397</td>\n",
              "      <td>0.047993</td>\n",
              "      <td>{'n_neighbors': 16, 'weights': 'uniform'}</td>\n",
              "    </tr>\n",
              "    <tr>\n",
              "      <th>31</th>\n",
              "      <td>0.835897</td>\n",
              "      <td>0.043893</td>\n",
              "      <td>{'n_neighbors': 16, 'weights': 'distance'}</td>\n",
              "    </tr>\n",
              "    <tr>\n",
              "      <th>32</th>\n",
              "      <td>0.833269</td>\n",
              "      <td>0.047016</td>\n",
              "      <td>{'n_neighbors': 17, 'weights': 'uniform'}</td>\n",
              "    </tr>\n",
              "    <tr>\n",
              "      <th>33</th>\n",
              "      <td>0.830769</td>\n",
              "      <td>0.043745</td>\n",
              "      <td>{'n_neighbors': 17, 'weights': 'distance'}</td>\n",
              "    </tr>\n",
              "    <tr>\n",
              "      <th>34</th>\n",
              "      <td>0.833333</td>\n",
              "      <td>0.045296</td>\n",
              "      <td>{'n_neighbors': 18, 'weights': 'uniform'}</td>\n",
              "    </tr>\n",
              "    <tr>\n",
              "      <th>35</th>\n",
              "      <td>0.830897</td>\n",
              "      <td>0.048776</td>\n",
              "      <td>{'n_neighbors': 18, 'weights': 'distance'}</td>\n",
              "    </tr>\n",
              "    <tr>\n",
              "      <th>36</th>\n",
              "      <td>0.833333</td>\n",
              "      <td>0.045296</td>\n",
              "      <td>{'n_neighbors': 19, 'weights': 'uniform'}</td>\n",
              "    </tr>\n",
              "    <tr>\n",
              "      <th>37</th>\n",
              "      <td>0.833333</td>\n",
              "      <td>0.043820</td>\n",
              "      <td>{'n_neighbors': 19, 'weights': 'distance'}</td>\n",
              "    </tr>\n",
              "    <tr>\n",
              "      <th>38</th>\n",
              "      <td>0.848462</td>\n",
              "      <td>0.042357</td>\n",
              "      <td>{'n_neighbors': 20, 'weights': 'uniform'}</td>\n",
              "    </tr>\n",
              "    <tr>\n",
              "      <th>39</th>\n",
              "      <td>0.835962</td>\n",
              "      <td>0.051657</td>\n",
              "      <td>{'n_neighbors': 20, 'weights': 'distance'}</td>\n",
              "    </tr>\n",
              "    <tr>\n",
              "      <th>40</th>\n",
              "      <td>0.835833</td>\n",
              "      <td>0.041125</td>\n",
              "      <td>{'n_neighbors': 21, 'weights': 'uniform'}</td>\n",
              "    </tr>\n",
              "    <tr>\n",
              "      <th>41</th>\n",
              "      <td>0.833333</td>\n",
              "      <td>0.043820</td>\n",
              "      <td>{'n_neighbors': 21, 'weights': 'distance'}</td>\n",
              "    </tr>\n",
              "    <tr>\n",
              "      <th>42</th>\n",
              "      <td>0.833333</td>\n",
              "      <td>0.045152</td>\n",
              "      <td>{'n_neighbors': 22, 'weights': 'uniform'}</td>\n",
              "    </tr>\n",
              "    <tr>\n",
              "      <th>43</th>\n",
              "      <td>0.830833</td>\n",
              "      <td>0.046294</td>\n",
              "      <td>{'n_neighbors': 22, 'weights': 'distance'}</td>\n",
              "    </tr>\n",
              "    <tr>\n",
              "      <th>44</th>\n",
              "      <td>0.830897</td>\n",
              "      <td>0.053778</td>\n",
              "      <td>{'n_neighbors': 23, 'weights': 'uniform'}</td>\n",
              "    </tr>\n",
              "    <tr>\n",
              "      <th>45</th>\n",
              "      <td>0.828333</td>\n",
              "      <td>0.049785</td>\n",
              "      <td>{'n_neighbors': 23, 'weights': 'distance'}</td>\n",
              "    </tr>\n",
              "    <tr>\n",
              "      <th>46</th>\n",
              "      <td>0.828205</td>\n",
              "      <td>0.044860</td>\n",
              "      <td>{'n_neighbors': 24, 'weights': 'uniform'}</td>\n",
              "    </tr>\n",
              "    <tr>\n",
              "      <th>47</th>\n",
              "      <td>0.828333</td>\n",
              "      <td>0.049785</td>\n",
              "      <td>{'n_neighbors': 24, 'weights': 'distance'}</td>\n",
              "    </tr>\n",
              "    <tr>\n",
              "      <th>48</th>\n",
              "      <td>0.823141</td>\n",
              "      <td>0.048047</td>\n",
              "      <td>{'n_neighbors': 25, 'weights': 'uniform'}</td>\n",
              "    </tr>\n",
              "    <tr>\n",
              "      <th>49</th>\n",
              "      <td>0.823141</td>\n",
              "      <td>0.046588</td>\n",
              "      <td>{'n_neighbors': 25, 'weights': 'distance'}</td>\n",
              "    </tr>\n",
              "    <tr>\n",
              "      <th>50</th>\n",
              "      <td>0.828205</td>\n",
              "      <td>0.038806</td>\n",
              "      <td>{'n_neighbors': 26, 'weights': 'uniform'}</td>\n",
              "    </tr>\n",
              "    <tr>\n",
              "      <th>51</th>\n",
              "      <td>0.823141</td>\n",
              "      <td>0.043749</td>\n",
              "      <td>{'n_neighbors': 26, 'weights': 'distance'}</td>\n",
              "    </tr>\n",
              "    <tr>\n",
              "      <th>52</th>\n",
              "      <td>0.823141</td>\n",
              "      <td>0.046658</td>\n",
              "      <td>{'n_neighbors': 27, 'weights': 'uniform'}</td>\n",
              "    </tr>\n",
              "    <tr>\n",
              "      <th>53</th>\n",
              "      <td>0.830769</td>\n",
              "      <td>0.046724</td>\n",
              "      <td>{'n_neighbors': 27, 'weights': 'distance'}</td>\n",
              "    </tr>\n",
              "    <tr>\n",
              "      <th>54</th>\n",
              "      <td>0.833205</td>\n",
              "      <td>0.034531</td>\n",
              "      <td>{'n_neighbors': 28, 'weights': 'uniform'}</td>\n",
              "    </tr>\n",
              "    <tr>\n",
              "      <th>55</th>\n",
              "      <td>0.825577</td>\n",
              "      <td>0.038806</td>\n",
              "      <td>{'n_neighbors': 28, 'weights': 'distance'}</td>\n",
              "    </tr>\n",
              "    <tr>\n",
              "      <th>56</th>\n",
              "      <td>0.823013</td>\n",
              "      <td>0.034591</td>\n",
              "      <td>{'n_neighbors': 29, 'weights': 'uniform'}</td>\n",
              "    </tr>\n",
              "    <tr>\n",
              "      <th>57</th>\n",
              "      <td>0.830641</td>\n",
              "      <td>0.036464</td>\n",
              "      <td>{'n_neighbors': 29, 'weights': 'distance'}</td>\n",
              "    </tr>\n",
              "    <tr>\n",
              "      <th>58</th>\n",
              "      <td>0.833205</td>\n",
              "      <td>0.034625</td>\n",
              "      <td>{'n_neighbors': 30, 'weights': 'uniform'}</td>\n",
              "    </tr>\n",
              "    <tr>\n",
              "      <th>59</th>\n",
              "      <td>0.830705</td>\n",
              "      <td>0.039486</td>\n",
              "      <td>{'n_neighbors': 30, 'weights': 'distance'}</td>\n",
              "    </tr>\n",
              "  </tbody>\n",
              "</table>\n",
              "</div>\n",
              "      <button class=\"colab-df-convert\" onclick=\"convertToInteractive('df-f73e395a-5f02-495d-b46d-e176e8ff8f57')\"\n",
              "              title=\"Convert this dataframe to an interactive table.\"\n",
              "              style=\"display:none;\">\n",
              "        \n",
              "  <svg xmlns=\"http://www.w3.org/2000/svg\" height=\"24px\"viewBox=\"0 0 24 24\"\n",
              "       width=\"24px\">\n",
              "    <path d=\"M0 0h24v24H0V0z\" fill=\"none\"/>\n",
              "    <path d=\"M18.56 5.44l.94 2.06.94-2.06 2.06-.94-2.06-.94-.94-2.06-.94 2.06-2.06.94zm-11 1L8.5 8.5l.94-2.06 2.06-.94-2.06-.94L8.5 2.5l-.94 2.06-2.06.94zm10 10l.94 2.06.94-2.06 2.06-.94-2.06-.94-.94-2.06-.94 2.06-2.06.94z\"/><path d=\"M17.41 7.96l-1.37-1.37c-.4-.4-.92-.59-1.43-.59-.52 0-1.04.2-1.43.59L10.3 9.45l-7.72 7.72c-.78.78-.78 2.05 0 2.83L4 21.41c.39.39.9.59 1.41.59.51 0 1.02-.2 1.41-.59l7.78-7.78 2.81-2.81c.8-.78.8-2.07 0-2.86zM5.41 20L4 18.59l7.72-7.72 1.47 1.35L5.41 20z\"/>\n",
              "  </svg>\n",
              "      </button>\n",
              "      \n",
              "  <style>\n",
              "    .colab-df-container {\n",
              "      display:flex;\n",
              "      flex-wrap:wrap;\n",
              "      gap: 12px;\n",
              "    }\n",
              "\n",
              "    .colab-df-convert {\n",
              "      background-color: #E8F0FE;\n",
              "      border: none;\n",
              "      border-radius: 50%;\n",
              "      cursor: pointer;\n",
              "      display: none;\n",
              "      fill: #1967D2;\n",
              "      height: 32px;\n",
              "      padding: 0 0 0 0;\n",
              "      width: 32px;\n",
              "    }\n",
              "\n",
              "    .colab-df-convert:hover {\n",
              "      background-color: #E2EBFA;\n",
              "      box-shadow: 0px 1px 2px rgba(60, 64, 67, 0.3), 0px 1px 3px 1px rgba(60, 64, 67, 0.15);\n",
              "      fill: #174EA6;\n",
              "    }\n",
              "\n",
              "    [theme=dark] .colab-df-convert {\n",
              "      background-color: #3B4455;\n",
              "      fill: #D2E3FC;\n",
              "    }\n",
              "\n",
              "    [theme=dark] .colab-df-convert:hover {\n",
              "      background-color: #434B5C;\n",
              "      box-shadow: 0px 1px 3px 1px rgba(0, 0, 0, 0.15);\n",
              "      filter: drop-shadow(0px 1px 2px rgba(0, 0, 0, 0.3));\n",
              "      fill: #FFFFFF;\n",
              "    }\n",
              "  </style>\n",
              "\n",
              "      <script>\n",
              "        const buttonEl =\n",
              "          document.querySelector('#df-f73e395a-5f02-495d-b46d-e176e8ff8f57 button.colab-df-convert');\n",
              "        buttonEl.style.display =\n",
              "          google.colab.kernel.accessAllowed ? 'block' : 'none';\n",
              "\n",
              "        async function convertToInteractive(key) {\n",
              "          const element = document.querySelector('#df-f73e395a-5f02-495d-b46d-e176e8ff8f57');\n",
              "          const dataTable =\n",
              "            await google.colab.kernel.invokeFunction('convertToInteractive',\n",
              "                                                     [key], {});\n",
              "          if (!dataTable) return;\n",
              "\n",
              "          const docLinkHtml = 'Like what you see? Visit the ' +\n",
              "            '<a target=\"_blank\" href=https://colab.research.google.com/notebooks/data_table.ipynb>data table notebook</a>'\n",
              "            + ' to learn more about interactive tables.';\n",
              "          element.innerHTML = '';\n",
              "          dataTable['output_type'] = 'display_data';\n",
              "          await google.colab.output.renderOutput(dataTable, element);\n",
              "          const docLink = document.createElement('div');\n",
              "          docLink.innerHTML = docLinkHtml;\n",
              "          element.appendChild(docLink);\n",
              "        }\n",
              "      </script>\n",
              "    </div>\n",
              "  </div>\n",
              "  "
            ]
          },
          "metadata": {},
          "execution_count": 23
        }
      ],
      "source": [
        "k_range = list(range(1, 31))\n",
        "weight_options = ['uniform', 'distance']\n",
        "param_grids = dict(n_neighbors=k_range, weights=weight_options)\n",
        "print(param_grids)\n",
        "grids = GridSearchCV(knn, param_grids, cv=10, scoring='accuracy')\n",
        "grids.fit(X, y)\n",
        "pd.DataFrame(grids.cv_results_)[['mean_test_score', 'std_test_score', 'params']]\n"
      ]
    },
    {
      "cell_type": "markdown",
      "id": "4d0f85e5",
      "metadata": {
        "id": "4d0f85e5"
      },
      "source": [
        "#### 3 - Random Forest"
      ]
    },
    {
      "cell_type": "code",
      "execution_count": 24,
      "id": "3d06adc3",
      "metadata": {
        "colab": {
          "base_uri": "https://localhost:8080/",
          "height": 192
        },
        "id": "3d06adc3",
        "outputId": "b0646ad9-d9dc-4a71-d369-5c907192a1af"
      },
      "outputs": [
        {
          "output_type": "stream",
          "name": "stdout",
          "text": [
            "{'n_estimators': [2, 5, 10, 20]}\n"
          ]
        },
        {
          "output_type": "execute_result",
          "data": {
            "text/plain": [
              "   mean_test_score  std_test_score                params\n",
              "0         0.736923        0.068765   {'n_estimators': 2}\n",
              "1         0.803013        0.050976   {'n_estimators': 5}\n",
              "2         0.815705        0.059588  {'n_estimators': 10}\n",
              "3         0.825705        0.049791  {'n_estimators': 20}"
            ],
            "text/html": [
              "\n",
              "  <div id=\"df-a7822e1e-5b6d-43b5-a427-c3d7ebdedf6b\">\n",
              "    <div class=\"colab-df-container\">\n",
              "      <div>\n",
              "<style scoped>\n",
              "    .dataframe tbody tr th:only-of-type {\n",
              "        vertical-align: middle;\n",
              "    }\n",
              "\n",
              "    .dataframe tbody tr th {\n",
              "        vertical-align: top;\n",
              "    }\n",
              "\n",
              "    .dataframe thead th {\n",
              "        text-align: right;\n",
              "    }\n",
              "</style>\n",
              "<table border=\"1\" class=\"dataframe\">\n",
              "  <thead>\n",
              "    <tr style=\"text-align: right;\">\n",
              "      <th></th>\n",
              "      <th>mean_test_score</th>\n",
              "      <th>std_test_score</th>\n",
              "      <th>params</th>\n",
              "    </tr>\n",
              "  </thead>\n",
              "  <tbody>\n",
              "    <tr>\n",
              "      <th>0</th>\n",
              "      <td>0.736923</td>\n",
              "      <td>0.068765</td>\n",
              "      <td>{'n_estimators': 2}</td>\n",
              "    </tr>\n",
              "    <tr>\n",
              "      <th>1</th>\n",
              "      <td>0.803013</td>\n",
              "      <td>0.050976</td>\n",
              "      <td>{'n_estimators': 5}</td>\n",
              "    </tr>\n",
              "    <tr>\n",
              "      <th>2</th>\n",
              "      <td>0.815705</td>\n",
              "      <td>0.059588</td>\n",
              "      <td>{'n_estimators': 10}</td>\n",
              "    </tr>\n",
              "    <tr>\n",
              "      <th>3</th>\n",
              "      <td>0.825705</td>\n",
              "      <td>0.049791</td>\n",
              "      <td>{'n_estimators': 20}</td>\n",
              "    </tr>\n",
              "  </tbody>\n",
              "</table>\n",
              "</div>\n",
              "      <button class=\"colab-df-convert\" onclick=\"convertToInteractive('df-a7822e1e-5b6d-43b5-a427-c3d7ebdedf6b')\"\n",
              "              title=\"Convert this dataframe to an interactive table.\"\n",
              "              style=\"display:none;\">\n",
              "        \n",
              "  <svg xmlns=\"http://www.w3.org/2000/svg\" height=\"24px\"viewBox=\"0 0 24 24\"\n",
              "       width=\"24px\">\n",
              "    <path d=\"M0 0h24v24H0V0z\" fill=\"none\"/>\n",
              "    <path d=\"M18.56 5.44l.94 2.06.94-2.06 2.06-.94-2.06-.94-.94-2.06-.94 2.06-2.06.94zm-11 1L8.5 8.5l.94-2.06 2.06-.94-2.06-.94L8.5 2.5l-.94 2.06-2.06.94zm10 10l.94 2.06.94-2.06 2.06-.94-2.06-.94-.94-2.06-.94 2.06-2.06.94z\"/><path d=\"M17.41 7.96l-1.37-1.37c-.4-.4-.92-.59-1.43-.59-.52 0-1.04.2-1.43.59L10.3 9.45l-7.72 7.72c-.78.78-.78 2.05 0 2.83L4 21.41c.39.39.9.59 1.41.59.51 0 1.02-.2 1.41-.59l7.78-7.78 2.81-2.81c.8-.78.8-2.07 0-2.86zM5.41 20L4 18.59l7.72-7.72 1.47 1.35L5.41 20z\"/>\n",
              "  </svg>\n",
              "      </button>\n",
              "      \n",
              "  <style>\n",
              "    .colab-df-container {\n",
              "      display:flex;\n",
              "      flex-wrap:wrap;\n",
              "      gap: 12px;\n",
              "    }\n",
              "\n",
              "    .colab-df-convert {\n",
              "      background-color: #E8F0FE;\n",
              "      border: none;\n",
              "      border-radius: 50%;\n",
              "      cursor: pointer;\n",
              "      display: none;\n",
              "      fill: #1967D2;\n",
              "      height: 32px;\n",
              "      padding: 0 0 0 0;\n",
              "      width: 32px;\n",
              "    }\n",
              "\n",
              "    .colab-df-convert:hover {\n",
              "      background-color: #E2EBFA;\n",
              "      box-shadow: 0px 1px 2px rgba(60, 64, 67, 0.3), 0px 1px 3px 1px rgba(60, 64, 67, 0.15);\n",
              "      fill: #174EA6;\n",
              "    }\n",
              "\n",
              "    [theme=dark] .colab-df-convert {\n",
              "      background-color: #3B4455;\n",
              "      fill: #D2E3FC;\n",
              "    }\n",
              "\n",
              "    [theme=dark] .colab-df-convert:hover {\n",
              "      background-color: #434B5C;\n",
              "      box-shadow: 0px 1px 3px 1px rgba(0, 0, 0, 0.15);\n",
              "      filter: drop-shadow(0px 1px 2px rgba(0, 0, 0, 0.3));\n",
              "      fill: #FFFFFF;\n",
              "    }\n",
              "  </style>\n",
              "\n",
              "      <script>\n",
              "        const buttonEl =\n",
              "          document.querySelector('#df-a7822e1e-5b6d-43b5-a427-c3d7ebdedf6b button.colab-df-convert');\n",
              "        buttonEl.style.display =\n",
              "          google.colab.kernel.accessAllowed ? 'block' : 'none';\n",
              "\n",
              "        async function convertToInteractive(key) {\n",
              "          const element = document.querySelector('#df-a7822e1e-5b6d-43b5-a427-c3d7ebdedf6b');\n",
              "          const dataTable =\n",
              "            await google.colab.kernel.invokeFunction('convertToInteractive',\n",
              "                                                     [key], {});\n",
              "          if (!dataTable) return;\n",
              "\n",
              "          const docLinkHtml = 'Like what you see? Visit the ' +\n",
              "            '<a target=\"_blank\" href=https://colab.research.google.com/notebooks/data_table.ipynb>data table notebook</a>'\n",
              "            + ' to learn more about interactive tables.';\n",
              "          element.innerHTML = '';\n",
              "          dataTable['output_type'] = 'display_data';\n",
              "          await google.colab.output.renderOutput(dataTable, element);\n",
              "          const docLink = document.createElement('div');\n",
              "          docLink.innerHTML = docLinkHtml;\n",
              "          element.appendChild(docLink);\n",
              "        }\n",
              "      </script>\n",
              "    </div>\n",
              "  </div>\n",
              "  "
            ]
          },
          "metadata": {},
          "execution_count": 24
        }
      ],
      "source": [
        "estimators=[2,5,10,20]\n",
        "param_grids = dict(n_estimators=estimators)\n",
        "print(param_grids)\n",
        "grids = GridSearchCV(forest, param_grids, cv=10, scoring='accuracy')\n",
        "grids.fit(X, y)\n",
        "pd.DataFrame(grids.cv_results_)[['mean_test_score', 'std_test_score', 'params']]\n"
      ]
    },
    {
      "cell_type": "markdown",
      "id": "209ff979",
      "metadata": {
        "id": "209ff979"
      },
      "source": [
        "#### 4 - SVM"
      ]
    },
    {
      "cell_type": "code",
      "execution_count": null,
      "id": "56a137df",
      "metadata": {
        "colab": {
          "base_uri": "https://localhost:8080/"
        },
        "id": "56a137df",
        "outputId": "fb1e6558-a10c-4f06-f2a7-adfbae6c9727"
      },
      "outputs": [
        {
          "output_type": "stream",
          "name": "stdout",
          "text": [
            "{'C': [1, 10, 100, 1000], 'kernel': ['linear', 'rbf'], 'gamma': [0.001, 0.0001]}\n"
          ]
        }
      ],
      "source": [
        "Cs =  [1, 10, 100, 1000]  \n",
        "kernels= ['linear','rbf']\n",
        "gammas= [0.001, 0.0001]\n",
        "param_grids = dict(C=Cs,kernel=kernels,gamma=gammas)\n",
        "print(param_grids)\n",
        "grids = GridSearchCV(sv, param_grids, cv=10, scoring='accuracy')\n",
        "grids.fit(X, y)\n",
        "pd.DataFrame(grids.cv_results_)[['mean_test_score', 'std_test_score', 'params']]\n"
      ]
    },
    {
      "cell_type": "markdown",
      "id": "7e88e3fd",
      "metadata": {
        "id": "7e88e3fd"
      },
      "source": [
        "#### 5 - Gradient Boosting Classifier"
      ]
    },
    {
      "cell_type": "code",
      "execution_count": null,
      "id": "f84b4ad9",
      "metadata": {
        "id": "f84b4ad9"
      },
      "outputs": [],
      "source": [
        "learning_rate = [0.01, 0.025, 0.05, 0.075, 0.1, 0.15, 0.2]\n",
        "max_depth = [3,5,8]\n",
        "param_grids = dict(learning_rate=learning_rate,max_depth=max_depth)\n",
        "print(param_grids)\n",
        "grids = GridSearchCV(gradient, param_grids, cv=10, scoring='accuracy')\n",
        "grids.fit(X, y)\n",
        "pd.DataFrame(grids.cv_results_)[['mean_test_score', 'std_test_score', 'params']]\n"
      ]
    },
    {
      "cell_type": "markdown",
      "id": "7db60e6e",
      "metadata": {
        "id": "7db60e6e"
      },
      "source": [
        "# Confusion Matrix "
      ]
    },
    {
      "cell_type": "markdown",
      "id": "648faae9",
      "metadata": {
        "id": "648faae9"
      },
      "source": [
        "#### 1 - Logistic Regression"
      ]
    },
    {
      "cell_type": "code",
      "execution_count": null,
      "id": "dfd19360",
      "metadata": {
        "colab": {
          "base_uri": "https://localhost:8080/",
          "height": 334
        },
        "id": "dfd19360",
        "outputId": "a14cde6f-1ad2-40ba-d395-2e046cbaeb73"
      },
      "outputs": [
        {
          "output_type": "stream",
          "name": "stderr",
          "text": [
            "/usr/local/lib/python3.8/dist-packages/sklearn/utils/deprecation.py:87: FutureWarning: Function plot_confusion_matrix is deprecated; Function `plot_confusion_matrix` is deprecated in 1.0 and will be removed in 1.2. Use one of the class methods: ConfusionMatrixDisplay.from_predictions or ConfusionMatrixDisplay.from_estimator.\n",
            "  warnings.warn(msg, category=FutureWarning)\n"
          ]
        },
        {
          "output_type": "display_data",
          "data": {
            "text/plain": [
              "<Figure size 432x288 with 2 Axes>"
            ],
            "image/png": "[encoded data removed]"
          },
          "metadata": {
            "needs_background": "light"
          }
        }
      ],
      "source": [
        "plot_confusion_matrix(logreg, X_test, y_test)\n",
        "plt.show() "
      ]
    },
    {
      "cell_type": "markdown",
      "id": "2360ca64",
      "metadata": {
        "id": "2360ca64"
      },
      "source": [
        "#### 2 - Decision Tree"
      ]
    },
    {
      "cell_type": "code",
      "execution_count": null,
      "id": "a4340616",
      "metadata": {
        "colab": {
          "base_uri": "https://localhost:8080/",
          "height": 351
        },
        "id": "a4340616",
        "outputId": "76363c5b-ce1e-4cee-f67d-740c9170f143"
      },
      "outputs": [
        {
          "output_type": "stream",
          "name": "stderr",
          "text": [
            "/usr/local/lib/python3.8/dist-packages/sklearn/utils/deprecation.py:87: FutureWarning: Function plot_confusion_matrix is deprecated; Function `plot_confusion_matrix` is deprecated in 1.0 and will be removed in 1.2. Use one of the class methods: ConfusionMatrixDisplay.from_predictions or ConfusionMatrixDisplay.from_estimator.\n",
            "  warnings.warn(msg, category=FutureWarning)\n"
          ]
        },
        {
          "output_type": "execute_result",
          "data": {
            "text/plain": [
              "<sklearn.metrics._plot.confusion_matrix.ConfusionMatrixDisplay at 0x7f9cf78be9a0>"
            ]
          },
          "metadata": {},
          "execution_count": 39
        },
        {
          "output_type": "display_data",
          "data": {
            "text/plain": [
              "<Figure size 432x288 with 2 Axes>"
            ],
            "image/png": "[encoded data removed]"
          },
          "metadata": {
            "needs_background": "light"
          }
        }
      ],
      "source": [
        "plot_confusion_matrix(decision, X_test, y_test)"
      ]
    },
    {
      "cell_type": "markdown",
      "id": "4b8156b2",
      "metadata": {
        "id": "4b8156b2"
      },
      "source": [
        "#### 3 - Random Forest"
      ]
    },
    {
      "cell_type": "code",
      "execution_count": null,
      "id": "a49e6909",
      "metadata": {
        "colab": {
          "base_uri": "https://localhost:8080/",
          "height": 351
        },
        "id": "a49e6909",
        "outputId": "a2a842bf-d237-406f-ef27-a984dbda96f8"
      },
      "outputs": [
        {
          "output_type": "stream",
          "name": "stderr",
          "text": [
            "/usr/local/lib/python3.8/dist-packages/sklearn/utils/deprecation.py:87: FutureWarning: Function plot_confusion_matrix is deprecated; Function `plot_confusion_matrix` is deprecated in 1.0 and will be removed in 1.2. Use one of the class methods: ConfusionMatrixDisplay.from_predictions or ConfusionMatrixDisplay.from_estimator.\n",
            "  warnings.warn(msg, category=FutureWarning)\n"
          ]
        },
        {
          "output_type": "execute_result",
          "data": {
            "text/plain": [
              "<sklearn.metrics._plot.confusion_matrix.ConfusionMatrixDisplay at 0x7f9cf78bee80>"
            ]
          },
          "metadata": {},
          "execution_count": 40
        },
        {
          "output_type": "display_data",
          "data": {
            "text/plain": [
              "<Figure size 432x288 with 2 Axes>"
            ],
            "image/png": "[encoded data removed]"
          },
          "metadata": {
            "needs_background": "light"
          }
        }
      ],
      "source": [
        "plot_confusion_matrix(forest, X_test, y_test)\n"
      ]
    },
    {
      "cell_type": "markdown",
      "id": "43f9c37e",
      "metadata": {
        "id": "43f9c37e"
      },
      "source": [
        "#### 4 - KNN"
      ]
    },
    {
      "cell_type": "code",
      "execution_count": null,
      "id": "ebe35b30",
      "metadata": {
        "colab": {
          "base_uri": "https://localhost:8080/",
          "height": 351
        },
        "id": "ebe35b30",
        "outputId": "c165ef03-1fdf-47ef-e353-d9e7ef224215"
      },
      "outputs": [
        {
          "output_type": "stream",
          "name": "stderr",
          "text": [
            "/usr/local/lib/python3.8/dist-packages/sklearn/utils/deprecation.py:87: FutureWarning: Function plot_confusion_matrix is deprecated; Function `plot_confusion_matrix` is deprecated in 1.0 and will be removed in 1.2. Use one of the class methods: ConfusionMatrixDisplay.from_predictions or ConfusionMatrixDisplay.from_estimator.\n",
            "  warnings.warn(msg, category=FutureWarning)\n"
          ]
        },
        {
          "output_type": "execute_result",
          "data": {
            "text/plain": [
              "<sklearn.metrics._plot.confusion_matrix.ConfusionMatrixDisplay at 0x7f9cf720e0d0>"
            ]
          },
          "metadata": {},
          "execution_count": 41
        },
        {
          "output_type": "display_data",
          "data": {
            "text/plain": [
              "<Figure size 432x288 with 2 Axes>"
            ],
            "image/png": "[encoded data removed]"
          },
          "metadata": {
            "needs_background": "light"
          }
        }
      ],
      "source": [
        "plot_confusion_matrix(knn, X_test, y_test)"
      ]
    },
    {
      "cell_type": "markdown",
      "id": "537f8db0",
      "metadata": {
        "id": "537f8db0"
      },
      "source": [
        "#### 5 - Naive Bayes"
      ]
    },
    {
      "cell_type": "code",
      "execution_count": null,
      "id": "2df6ce80",
      "metadata": {
        "colab": {
          "base_uri": "https://localhost:8080/",
          "height": 355
        },
        "id": "2df6ce80",
        "outputId": "3fab17b7-cb62-46c3-e5c1-a7aabea6ef3e"
      },
      "outputs": [
        {
          "output_type": "stream",
          "name": "stderr",
          "text": [
            "/usr/local/lib/python3.8/dist-packages/sklearn/utils/deprecation.py:87: FutureWarning: Function plot_confusion_matrix is deprecated; Function `plot_confusion_matrix` is deprecated in 1.0 and will be removed in 1.2. Use one of the class methods: ConfusionMatrixDisplay.from_predictions or ConfusionMatrixDisplay.from_estimator.\n",
            "  warnings.warn(msg, category=FutureWarning)\n"
          ]
        },
        {
          "output_type": "execute_result",
          "data": {
            "text/plain": [
              "<sklearn.metrics._plot.confusion_matrix.ConfusionMatrixDisplay at 0x7f9cf7135880>"
            ]
          },
          "metadata": {},
          "execution_count": 42
        },
        {
          "output_type": "display_data",
          "data": {
            "text/plain": [
              "<Figure size 432x288 with 2 Axes>"
            ],
            "image/png": "[encoded data removed]"
          },
          "metadata": {
            "needs_background": "light"
          }
        }
      ],
      "source": [
        "plot_confusion_matrix(nb, X_test, y_test)"
      ]
    },
    {
      "cell_type": "markdown",
      "id": "5f609dc2",
      "metadata": {
        "id": "5f609dc2"
      },
      "source": [
        "#### 6 - SVM"
      ]
    },
    {
      "cell_type": "code",
      "execution_count": null,
      "id": "abb5a93d",
      "metadata": {
        "colab": {
          "base_uri": "https://localhost:8080/",
          "height": 351
        },
        "id": "abb5a93d",
        "outputId": "435da623-c3da-4220-b924-9e2e057de2c5"
      },
      "outputs": [
        {
          "output_type": "stream",
          "name": "stderr",
          "text": [
            "/usr/local/lib/python3.8/dist-packages/sklearn/utils/deprecation.py:87: FutureWarning: Function plot_confusion_matrix is deprecated; Function `plot_confusion_matrix` is deprecated in 1.0 and will be removed in 1.2. Use one of the class methods: ConfusionMatrixDisplay.from_predictions or ConfusionMatrixDisplay.from_estimator.\n",
            "  warnings.warn(msg, category=FutureWarning)\n"
          ]
        },
        {
          "output_type": "execute_result",
          "data": {
            "text/plain": [
              "<sklearn.metrics._plot.confusion_matrix.ConfusionMatrixDisplay at 0x7f9cf7135640>"
            ]
          },
          "metadata": {},
          "execution_count": 43
        },
        {
          "output_type": "display_data",
          "data": {
            "text/plain": [
              "<Figure size 432x288 with 2 Axes>"
            ],
            "image/png": "[encoded data removed]"
          },
          "metadata": {
            "needs_background": "light"
          }
        }
      ],
      "source": [
        "plot_confusion_matrix(sv, X_test, y_test)"
      ]
    },
    {
      "cell_type": "markdown",
      "id": "7c534b28",
      "metadata": {
        "id": "7c534b28"
      },
      "source": [
        "#### 7 - Gradient Boosting Classifier"
      ]
    },
    {
      "cell_type": "code",
      "execution_count": null,
      "id": "dc38782d",
      "metadata": {
        "colab": {
          "base_uri": "https://localhost:8080/",
          "height": 351
        },
        "id": "dc38782d",
        "outputId": "4f7ac997-24e3-4633-9fd0-a27b9216c3da"
      },
      "outputs": [
        {
          "output_type": "stream",
          "name": "stderr",
          "text": [
            "/usr/local/lib/python3.8/dist-packages/sklearn/utils/deprecation.py:87: FutureWarning: Function plot_confusion_matrix is deprecated; Function `plot_confusion_matrix` is deprecated in 1.0 and will be removed in 1.2. Use one of the class methods: ConfusionMatrixDisplay.from_predictions or ConfusionMatrixDisplay.from_estimator.\n",
            "  warnings.warn(msg, category=FutureWarning)\n"
          ]
        },
        {
          "output_type": "execute_result",
          "data": {
            "text/plain": [
              "<sklearn.metrics._plot.confusion_matrix.ConfusionMatrixDisplay at 0x7f9cf70f9cd0>"
            ]
          },
          "metadata": {},
          "execution_count": 44
        },
        {
          "output_type": "display_data",
          "data": {
            "text/plain": [
              "<Figure size 432x288 with 2 Axes>"
            ],
            "image/png": "[encoded data removed]"
          },
          "metadata": {
            "needs_background": "light"
          }
        }
      ],
      "source": [
        "plot_confusion_matrix(gradient, X_test, y_test)"
      ]
    }
  ],
  "metadata": {
    "kernelspec": {
      "display_name": "Python 3 (ipykernel)",
      "language": "python",
      "name": "python3"
    },
    "language_info": {
      "codemirror_mode": {
        "name": "ipython",
        "version": 3
      },
      "file_extension": ".py",
      "mimetype": "text/x-python",
      "name": "python",
      "nbconvert_exporter": "python",
      "pygments_lexer": "ipython3",
      "version": "3.9.13"
    },
    "colab": {
      "provenance": []
    }
  },
  "nbformat": 4,
  "nbformat_minor": 5
}